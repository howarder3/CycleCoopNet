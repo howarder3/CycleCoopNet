{
 "cells": [
  {
   "cell_type": "markdown",
   "metadata": {},
   "source": [
    "# cycleGAN"
   ]
  },
  {
   "cell_type": "code",
   "execution_count": 1,
   "metadata": {},
   "outputs": [
    {
     "name": "stdout",
     "output_type": "stream",
     "text": [
      "finish: [0/300]\n",
      "finish: [10/300]\n",
      "finish: [20/300]\n",
      "finish: [30/300]\n",
      "finish: [40/300]\n",
      "finish: [50/300]\n",
      "finish: [60/300]\n",
      "finish: [70/300]\n",
      "finish: [80/300]\n",
      "finish: [90/300]\n",
      "finish: [100/300]\n",
      "finish: [110/300]\n",
      "finish: [120/300]\n",
      "finish: [130/300]\n",
      "finish: [140/300]\n",
      "finish: [150/300]\n",
      "finish: [160/300]\n",
      "finish: [170/300]\n",
      "finish: [180/300]\n",
      "finish: [190/300]\n",
      "finish: [200/300]\n",
      "finish: [210/300]\n",
      "finish: [220/300]\n",
      "finish: [230/300]\n",
      "finish: [240/300]\n",
      "finish: [250/300]\n",
      "finish: [260/300]\n",
      "finish: [270/300]\n",
      "finish: [280/300]\n",
      "finish: [290/300]\n"
     ]
    }
   ],
   "source": [
    "from PIL import Image\n",
    "from matplotlib.pyplot import imshow\n",
    "from IPython.display import display # to display images\n",
    "from multiprocessing import Process\n",
    "import histogram as htg\n",
    "import aHash as ah\n",
    "import pHash as ph\n",
    "import dHash as dh\n",
    "from glob import glob\n",
    "\n",
    "#opens images:\n",
    "target = glob(\"./cycleGAN/recover/target/*.jpg\") # target only one\n",
    "compare_list = glob(\"./cycleGAN/recover/compare/*.png\")\n",
    "# print(\"find file: {}\".format(target))\n",
    "\n",
    "result_width, result_height = 560, 560\n",
    "result_im = Image.new('RGB', (result_width, result_height))\n",
    "\n",
    "\n",
    "# 依据图片直方图距离计算相似度\n",
    "histogram_list = []\n",
    "\n",
    "# 平均哈希算法计算相似度\n",
    "aHash_list = []\n",
    "\n",
    "# 感知哈希算法计算相似度\n",
    "pHash_list = []\n",
    "\n",
    "# 差异哈希算法计算相似度\n",
    "dHash_list = []\n",
    "\n",
    "# plt\n",
    "data_h_list = []\n",
    "data_a_list = []\n",
    "data_p_list = []\n",
    "data_d_list = []\n",
    "\n",
    "# read image files\n",
    "img_target = Image.open(target[0])\n",
    "img1 = img_target\n",
    "img1_htg = htg.regularizeImage(img1)\n",
    "hg1 = img1_htg.histogram()\n",
    "\n",
    "for idx, img_location in enumerate(compare_list):\n",
    "    if idx % 10 == 0 :\n",
    "        print(\"finish: [{}/{}]\".format(idx, len(compare_list)))\n",
    "    \n",
    "#     if idx == 50 :\n",
    "#         break\n",
    "    \n",
    "    img_compare = Image.open(img_location)\n",
    "    \n",
    "    \n",
    "    img2 = img_compare\n",
    "\n",
    "#     display(img1)\n",
    "#     display(img2)\n",
    "\n",
    "\n",
    "    #     print('img1_shape = {}'.format(img1.shape))\n",
    "    #     print('img2_shape = {}'.format(img2.shape))\n",
    "\n",
    "    # Histogram Similarity Calculation\n",
    "    # regularize the images\n",
    "    \n",
    "    img2_htg = htg.regularizeImage(img2)\n",
    "\n",
    "    \n",
    "    #     print(hg1)\n",
    "    # print(img1.histogram())\n",
    "#     print('img1的样本点有{}个'.format(len(hg1)))\n",
    "    hg2 = img2_htg.histogram()\n",
    "    #     print(hg2)\n",
    "    # print(img2.histogram())\n",
    "#     print('img2的样本点有{}个'.format(len(hg2)))\n",
    "\n",
    "    # draw the histogram in a no-blocking way\n",
    "    sub_thread = Process(target=htg.drawHistogram, args=(hg1, hg2,))\n",
    "    sub_thread.start()\n",
    "\n",
    "\n",
    "    percentage = 64\n",
    "\n",
    "    # print the histogram similarity\n",
    "#     print('依据图片直方图距离计算相似度：{}'.format(htg.calMultipleHistogramSimilarity(img1_htg, img2_htg)))\n",
    "    his_result = htg.calMultipleHistogramSimilarity(img1_htg, img2_htg)\n",
    "    histogram_list.append(his_result)\n",
    "    data_h_list.append((idx, his_result))\n",
    "    \n",
    "    # aHash Calculation\n",
    "#     print('依据平均哈希算法计算相似度：{}/{}'.format(ah.calaHashSimilarity(img1, img2), percentage))\n",
    "    ahash_result = ah.calaHashSimilarity(img1, img2)/64\n",
    "    aHash_list.append(ahash_result)\n",
    "    data_a_list.append((idx, ahash_result))\n",
    "    \n",
    "    # pHash Calculation\n",
    "#     print('依据感知哈希算法计算相似度：{}/{}'.format(ph.calpHashSimilarity(img1, img2), percentage))\n",
    "    phash_result = ph.calpHashSimilarity(img1, img2)/64\n",
    "    pHash_list.append(phash_result)\n",
    "    data_p_list.append((idx, phash_result))\n",
    "    \n",
    "    # dHash Calculation\n",
    "#     print('依据差异哈希算法计算相似度：{}/{}'.format(dh.caldHashSimilarity(img1, img2), percentage))\n",
    "    dhash_result = dh.caldHashSimilarity(img1, img2)/64\n",
    "    dHash_list.append(dhash_result)\n",
    "    data_d_list.append((idx, dhash_result))\n",
    "    \n",
    "    \n",
    "    \n"
   ]
  },
  {
   "cell_type": "code",
   "execution_count": 2,
   "metadata": {},
   "outputs": [
    {
     "name": "stdout",
     "output_type": "stream",
     "text": [
      "histogram_list mean is : 0.4122077791929898\n",
      "aHash_list mean is : 0.9572916666666667\n",
      "pHash_list mean is : 0.9999479166666667\n",
      "dHash_list mean is : 0.8276041666666667\n"
     ]
    }
   ],
   "source": [
    "# Importing the statistics module \n",
    "import statistics \n",
    "  \n",
    "# # list of positive integer numbers \n",
    "# data1 = [1, 3, 4, 5, 7, 9, 2] \n",
    "  \n",
    "# x = statistics.mean(data1) \n",
    "\n",
    "print(\"histogram_list mean is :\", statistics.mean(histogram_list))\n",
    "print(\"aHash_list mean is :\", statistics.mean(aHash_list))\n",
    "print(\"pHash_list mean is :\", statistics.mean(pHash_list))\n",
    "print(\"dHash_list mean is :\", statistics.mean(dHash_list))\n",
    "  \n",
    "# Printing the mean \n",
    "# print(\"Mean is :\", x) "
   ]
  },
  {
   "cell_type": "code",
   "execution_count": 3,
   "metadata": {},
   "outputs": [],
   "source": [
    "import matplotlib.pyplot as plt\n",
    "\n",
    "def plotData(plt, data):\n",
    "    x = [p[0] for p in data]\n",
    "    y = [p[1] for p in data]\n",
    "    plt.plot(x, y, '-o')"
   ]
  },
  {
   "cell_type": "code",
   "execution_count": 4,
   "metadata": {},
   "outputs": [
    {
     "data": {
      "image/png": "[encoded data removed]",
      "text/plain": [
       "<Figure size 432x288 with 1 Axes>"
      ]
     },
     "metadata": {
      "needs_background": "light"
     },
     "output_type": "display_data"
    }
   ],
   "source": [
    "plotData(plt, data_h_list)\n",
    "plotData(plt, data_a_list)\n",
    "plotData(plt, data_p_list)\n",
    "plotData(plt, data_d_list)\n",
    "# plt.legend()\n",
    "plt.show()"
   ]
  },
  {
   "cell_type": "code",
   "execution_count": null,
   "metadata": {},
   "outputs": [],
   "source": []
  },
  {
   "cell_type": "code",
   "execution_count": 5,
   "metadata": {},
   "outputs": [
    {
     "data": {
      "image/png": "[encoded data removed]",
      "text/plain": [
       "<Figure size 432x288 with 1 Axes>"
      ]
     },
     "metadata": {
      "needs_background": "light"
     },
     "output_type": "display_data"
    }
   ],
   "source": [
    "%matplotlib inline\n",
    "\n",
    "import numpy as np\n",
    "import matplotlib.pyplot as plt\n",
    "\n",
    "# normal_samples = np.random.normal(size = 100) # 生成 100000 組標準常態分配（平均值為 0，標準差為 1 的常態分配）隨機變數\n",
    "\n",
    "# print(histogram_list)\n",
    "\n",
    "plt.boxplot(histogram_list)\n",
    "plt.boxplot(histogram_list)\n",
    "plt.boxplot(histogram_list)\n",
    "plt.boxplot(histogram_list)\n",
    "plt.show()\n"
   ]
  },
  {
   "cell_type": "code",
   "execution_count": 6,
   "metadata": {},
   "outputs": [
    {
     "ename": "AttributeError",
     "evalue": "'list' object has no attribute 'plot'",
     "output_type": "error",
     "traceback": [
      "\u001b[1;31m---------------------------------------------------------------------------\u001b[0m",
      "\u001b[1;31mAttributeError\u001b[0m                            Traceback (most recent call last)",
      "\u001b[1;32m<ipython-input-6-4663b6ec22a8>\u001b[0m in \u001b[0;36m<module>\u001b[1;34m\u001b[0m\n\u001b[0;32m      1\u001b[0m \u001b[0mfig\u001b[0m\u001b[1;33m,\u001b[0m \u001b[0maxes\u001b[0m \u001b[1;33m=\u001b[0m \u001b[0mplt\u001b[0m\u001b[1;33m.\u001b[0m\u001b[0msubplots\u001b[0m\u001b[1;33m(\u001b[0m\u001b[1;33m)\u001b[0m\u001b[1;33m\u001b[0m\u001b[1;33m\u001b[0m\u001b[0m\n\u001b[1;32m----> 2\u001b[1;33m \u001b[0mhistogram_list\u001b[0m\u001b[1;33m.\u001b[0m\u001b[0mplot\u001b[0m\u001b[1;33m(\u001b[0m\u001b[0mkind\u001b[0m\u001b[1;33m=\u001b[0m\u001b[1;34m'box'\u001b[0m\u001b[1;33m,\u001b[0m\u001b[0max\u001b[0m\u001b[1;33m=\u001b[0m\u001b[0maxes\u001b[0m\u001b[1;33m)\u001b[0m\u001b[1;33m\u001b[0m\u001b[1;33m\u001b[0m\u001b[0m\n\u001b[0m\u001b[0;32m      3\u001b[0m \u001b[0maxes\u001b[0m\u001b[1;33m.\u001b[0m\u001b[0mset_ylabel\u001b[0m\u001b[1;33m(\u001b[0m\u001b[1;34m'values of tip_pct'\u001b[0m\u001b[1;33m)\u001b[0m\u001b[1;33m\u001b[0m\u001b[1;33m\u001b[0m\u001b[0m\n",
      "\u001b[1;31mAttributeError\u001b[0m: 'list' object has no attribute 'plot'"
     ]
    },
    {
     "data": {
      "image/png": "[encoded data removed]",
      "text/plain": [
       "<Figure size 432x288 with 1 Axes>"
      ]
     },
     "metadata": {
      "needs_background": "light"
     },
     "output_type": "display_data"
    }
   ],
   "source": [
    "fig, axes = plt.subplots()\n",
    "histogram_list.plot(kind='box',ax=axes)\n",
    "axes.set_ylabel('values of tip_pct')"
   ]
  },
  {
   "cell_type": "code",
   "execution_count": null,
   "metadata": {},
   "outputs": [],
   "source": [
    "import seaborn as sns \n",
    "\n",
    "sns.catplot(x='tip_pct',y='day',hue='smoker',kind='box',\n",
    "           data=tips[tips.tip_pct < 0.5])   \n",
    "# hue表示分組的依據\n",
    "  \n",
    "plt.savefig('p4.png')    # 將繪製的圖形儲存為p4.png"
   ]
  },
  {
   "cell_type": "code",
   "execution_count": null,
   "metadata": {},
   "outputs": [],
   "source": []
  },
  {
   "cell_type": "code",
   "execution_count": null,
   "metadata": {},
   "outputs": [],
   "source": []
  },
  {
   "cell_type": "code",
   "execution_count": null,
   "metadata": {},
   "outputs": [],
   "source": []
  },
  {
   "cell_type": "markdown",
   "metadata": {},
   "source": [
    "# CycleCoopNet"
   ]
  },
  {
   "cell_type": "code",
   "execution_count": 7,
   "metadata": {},
   "outputs": [
    {
     "name": "stdout",
     "output_type": "stream",
     "text": [
      "finish: [0/300]\n",
      "finish: [10/300]\n",
      "finish: [20/300]\n",
      "finish: [30/300]\n",
      "finish: [40/300]\n",
      "finish: [50/300]\n",
      "finish: [60/300]\n",
      "finish: [70/300]\n",
      "finish: [80/300]\n",
      "finish: [90/300]\n",
      "finish: [100/300]\n",
      "finish: [110/300]\n",
      "finish: [120/300]\n",
      "finish: [130/300]\n",
      "finish: [140/300]\n",
      "finish: [150/300]\n",
      "finish: [160/300]\n",
      "finish: [170/300]\n",
      "finish: [180/300]\n",
      "finish: [190/300]\n",
      "finish: [200/300]\n",
      "finish: [210/300]\n",
      "finish: [220/300]\n",
      "finish: [230/300]\n",
      "finish: [240/300]\n",
      "finish: [250/300]\n",
      "finish: [260/300]\n",
      "finish: [270/300]\n",
      "finish: [280/300]\n",
      "finish: [290/300]\n"
     ]
    }
   ],
   "source": [
    "#opens images:\n",
    "target = glob(\"./cyclecoopnet/recover/target/*.jpg\") # target only one\n",
    "compare_list = glob(\"./cyclecoopnet/recover/compare/*.png\")\n",
    "# print(\"find file: {}\".format(target))\n",
    "\n",
    "result_width, result_height = 560, 560\n",
    "result_im = Image.new('RGB', (result_width, result_height))\n",
    "\n",
    "\n",
    "# 依据图片直方图距离计算相似度\n",
    "coopnet_histogram_list = []\n",
    "\n",
    "# 平均哈希算法计算相似度\n",
    "coopnet_aHash_list = []\n",
    "\n",
    "# 感知哈希算法计算相似度\n",
    "coopnet_pHash_list = []\n",
    "\n",
    "# 差异哈希算法计算相似度\n",
    "coopnet_dHash_list = []\n",
    "\n",
    "# plt\n",
    "coopnet_data_h_list = []\n",
    "coopnet_data_a_list = []\n",
    "coopnet_data_p_list = []\n",
    "coopnet_data_d_list = []\n",
    "\n",
    "# read image files\n",
    "img_target = Image.open(target[0])\n",
    "img1 = img_target\n",
    "img1_htg = htg.regularizeImage(img1)\n",
    "hg1 = img1_htg.histogram()\n",
    "\n",
    "for idx, img_location in enumerate(compare_list):\n",
    "    if idx % 10 == 0 :\n",
    "        print(\"finish: [{}/{}]\".format(idx, len(compare_list)))\n",
    "    \n",
    "#     if idx == 50 :\n",
    "#         break\n",
    "    \n",
    "    img_compare = Image.open(img_location)\n",
    "    \n",
    "    \n",
    "    img2 = img_compare\n",
    "\n",
    "#     display(img1)\n",
    "#     display(img2)\n",
    "\n",
    "\n",
    "    #     print('img1_shape = {}'.format(img1.shape))\n",
    "    #     print('img2_shape = {}'.format(img2.shape))\n",
    "\n",
    "    # Histogram Similarity Calculation\n",
    "    # regularize the images\n",
    "    \n",
    "    img2_htg = htg.regularizeImage(img2)\n",
    "\n",
    "    \n",
    "    #     print(hg1)\n",
    "    # print(img1.histogram())\n",
    "#     print('img1的样本点有{}个'.format(len(hg1)))\n",
    "    hg2 = img2_htg.histogram()\n",
    "    #     print(hg2)\n",
    "    # print(img2.histogram())\n",
    "#     print('img2的样本点有{}个'.format(len(hg2)))\n",
    "\n",
    "    # draw the histogram in a no-blocking way\n",
    "    sub_thread = Process(target=htg.drawHistogram, args=(hg1, hg2,))\n",
    "    sub_thread.start()\n",
    "\n",
    "\n",
    "    percentage = 64\n",
    "\n",
    "    # print the histogram similarity\n",
    "#     print('依据图片直方图距离计算相似度：{}'.format(htg.calMultipleHistogramSimilarity(img1_htg, img2_htg)))\n",
    "    his_result = htg.calMultipleHistogramSimilarity(img1_htg, img2_htg)\n",
    "    coopnet_histogram_list.append(his_result)\n",
    "    coopnet_data_h_list.append((idx, his_result))\n",
    "    \n",
    "    # aHash Calculation\n",
    "#     print('依据平均哈希算法计算相似度：{}/{}'.format(ah.calaHashSimilarity(img1, img2), percentage))\n",
    "    ahash_result = ah.calaHashSimilarity(img1, img2)/64\n",
    "    coopnet_aHash_list.append(ahash_result)\n",
    "    coopnet_data_a_list.append((idx, ahash_result))\n",
    "    \n",
    "    # pHash Calculation\n",
    "#     print('依据感知哈希算法计算相似度：{}/{}'.format(ph.calpHashSimilarity(img1, img2), percentage))\n",
    "    phash_result = ph.calpHashSimilarity(img1, img2)/64\n",
    "    coopnet_pHash_list.append(phash_result)\n",
    "    coopnet_data_p_list.append((idx, phash_result))\n",
    "    \n",
    "    # dHash Calculation\n",
    "#     print('依据差异哈希算法计算相似度：{}/{}'.format(dh.caldHashSimilarity(img1, img2), percentage))\n",
    "    dhash_result = dh.caldHashSimilarity(img1, img2)/64\n",
    "    coopnet_dHash_list.append(dhash_result)\n",
    "    coopnet_data_d_list.append((idx, dhash_result))\n",
    "    \n",
    "    \n",
    "    \n"
   ]
  },
  {
   "cell_type": "code",
   "execution_count": null,
   "metadata": {},
   "outputs": [],
   "source": []
  },
  {
   "cell_type": "markdown",
   "metadata": {},
   "source": [
    "# result: draw box"
   ]
  },
  {
   "cell_type": "code",
   "execution_count": 8,
   "metadata": {},
   "outputs": [
    {
     "data": {
      "image/png": "[encoded data removed]",
      "text/plain": [
       "<Figure size 432x288 with 1 Axes>"
      ]
     },
     "metadata": {
      "needs_background": "light"
     },
     "output_type": "display_data"
    }
   ],
   "source": [
    "import matplotlib.pyplot as plt\n",
    "import numpy as np\n",
    "\n",
    "# data_a = [[1,2,5], [5,7,2,2,5], [7,2,5]]\n",
    "data_a = [histogram_list, aHash_list, pHash_list, dHash_list]\n",
    "# data_b = [[0.6,0.4,0.2], [0.1,0.2,0.5,0.3,0.2], [0.2,0.3,0.5,0.1], [0.2,0.3,0.5,0.1]]\n",
    "data_b = [coopnet_histogram_list, coopnet_aHash_list, coopnet_pHash_list, coopnet_dHash_list]\n",
    "\n",
    "# ticks = ['case A', 'case B', 'case C']\n",
    "ticks = ['histogram', 'aHash', 'pHash', 'dHash']\n",
    "\n",
    "\n",
    "def set_box_color(bp, color):\n",
    "    plt.setp(bp['boxes'], color=color)\n",
    "    plt.setp(bp['whiskers'], color=color)\n",
    "    plt.setp(bp['caps'], color=color)\n",
    "    plt.setp(bp['medians'], color=color)\n",
    "\n",
    "plt.figure()\n",
    "\n",
    "bpl = plt.boxplot(data_a, positions=np.array(range(len(data_a)))*2.0-0.4, sym='', widths=0.6)\n",
    "bpr = plt.boxplot(data_b, positions=np.array(range(len(data_b)))*2.0+0.4, sym='', widths=0.6)\n",
    "set_box_color(bpl, '#D7191C') # colors are from http://colorbrewer2.org/\n",
    "set_box_color(bpr, '#2C7BB6')\n",
    "\n",
    "# draw temporary red and blue lines and use them to create a legend\n",
    "plt.plot([], c='#D7191C', label='cycleGAN')\n",
    "plt.plot([], c='#2C7BB6', label='cycleCoopNet')\n",
    "plt.legend()\n",
    "\n",
    "plt.xticks(range(0, len(ticks) * 2, 2), ticks)\n",
    "plt.xlim(-2, len(ticks)*2)\n",
    "plt.ylim(0, 1)\n",
    "plt.tight_layout()\n",
    "plt.savefig('boxcompare.png')\n",
    "plt.show()"
   ]
  },
  {
   "cell_type": "code",
   "execution_count": null,
   "metadata": {},
   "outputs": [],
   "source": []
  },
  {
   "cell_type": "code",
   "execution_count": null,
   "metadata": {},
   "outputs": [],
   "source": []
  },
  {
   "cell_type": "code",
   "execution_count": null,
   "metadata": {},
   "outputs": [],
   "source": []
  },
  {
   "cell_type": "code",
   "execution_count": null,
   "metadata": {},
   "outputs": [],
   "source": []
  },
  {
   "cell_type": "code",
   "execution_count": null,
   "metadata": {},
   "outputs": [],
   "source": []
  },
  {
   "cell_type": "code",
   "execution_count": null,
   "metadata": {},
   "outputs": [],
   "source": []
  },
  {
   "cell_type": "code",
   "execution_count": null,
   "metadata": {},
   "outputs": [],
   "source": []
  },
  {
   "cell_type": "code",
   "execution_count": null,
   "metadata": {},
   "outputs": [],
   "source": []
  },
  {
   "cell_type": "code",
   "execution_count": null,
   "metadata": {},
   "outputs": [],
   "source": []
  }
 ],
 "metadata": {
  "kernelspec": {
   "display_name": "Python 3",
   "language": "python",
   "name": "python3"
  },
  "language_info": {
   "codemirror_mode": {
    "name": "ipython",
    "version": 3
   },
   "file_extension": ".py",
   "mimetype": "text/x-python",
   "name": "python",
   "nbconvert_exporter": "python",
   "pygments_lexer": "ipython3",
   "version": "3.6.8"
  }
 },
 "nbformat": 4,
 "nbformat_minor": 2
}
