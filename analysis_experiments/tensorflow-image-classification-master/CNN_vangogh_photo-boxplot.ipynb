{
 "cells": [
  {
   "cell_type": "markdown",
   "metadata": {},
   "source": [
    "# TensorFlow Convolutional Neural Network for Image Classification"
   ]
  },
  {
   "cell_type": "code",
   "execution_count": 1,
   "metadata": {},
   "outputs": [],
   "source": [
    "import time\n",
    "import math\n",
    "import random\n",
    "\n",
    "import pandas as pd\n",
    "import numpy as np\n",
    "import matplotlib.pyplot as plt\n",
    "import tensorflow as tf\n",
    "import dataset\n",
    "import cv2\n",
    "\n",
    "from sklearn.metrics import confusion_matrix\n",
    "from datetime import timedelta\n",
    "from glob import glob\n",
    "\n",
    "%matplotlib inline"
   ]
  },
  {
   "cell_type": "markdown",
   "metadata": {},
   "source": [
    "## Configuration and Hyperparameters"
   ]
  },
  {
   "cell_type": "code",
   "execution_count": 2,
   "metadata": {},
   "outputs": [],
   "source": [
    "# Convolutional Layer 1.\n",
    "filter_size1 = 3 \n",
    "num_filters1 = 32\n",
    "\n",
    "# Convolutional Layer 2.\n",
    "filter_size2 = 3\n",
    "num_filters2 = 32\n",
    "\n",
    "# Convolutional Layer 3.\n",
    "filter_size3 = 3\n",
    "num_filters3 = 64\n",
    "\n",
    "# Fully-connected layer.\n",
    "fc_size = 128             # Number of neurons in fully-connected layer.\n",
    "\n",
    "# Number of color channels for the images: 1 channel for gray-scale.\n",
    "num_channels = 3\n",
    "\n",
    "# image dimensions (only squares for now)\n",
    "img_size = 256\n",
    "\n",
    "# Size of image when flattened to a single dimension\n",
    "img_size_flat = img_size * img_size * num_channels\n",
    "\n",
    "# Tuple with height and width of images used to reshape arrays.\n",
    "img_shape = (img_size, img_size)\n",
    "\n",
    "# class info\n",
    "classes = ['vangogh', 'photo']\n",
    "num_classes = len(classes)\n",
    "\n",
    "# batch size\n",
    "batch_size = 32\n",
    "\n",
    "# validation split\n",
    "validation_size = .16\n",
    "\n",
    "# how long to wait after validation loss stops improving before terminating training\n",
    "early_stopping = None  # use None if you don't want to implement early stoping\n",
    "\n",
    "train_path = 'data/train/'\n",
    "test_path = 'data/test/'\n",
    "checkpoint_dir = \"models/\""
   ]
  },
  {
   "cell_type": "markdown",
   "metadata": {},
   "source": [
    "## Load Data"
   ]
  },
  {
   "cell_type": "code",
   "execution_count": 3,
   "metadata": {},
   "outputs": [
    {
     "name": "stdout",
     "output_type": "stream",
     "text": [
      "Reading training images\n",
      "Loading vangogh files (Index: 0)\n",
      "Loading photo files (Index: 1)\n",
      "Reading test images\n"
     ]
    }
   ],
   "source": [
    "data = dataset.read_train_sets(train_path, img_size, classes, validation_size=validation_size)\n",
    "test_images, test_ids = dataset.read_test_set(test_path, img_size)"
   ]
  },
  {
   "cell_type": "code",
   "execution_count": 4,
   "metadata": {},
   "outputs": [
    {
     "name": "stdout",
     "output_type": "stream",
     "text": [
      "Size of:\n",
      "- Training-set:\t\t5198\n",
      "- Test-set:\t\t2\n",
      "- Validation-set:\t989\n"
     ]
    }
   ],
   "source": [
    "print(\"Size of:\")\n",
    "print(\"- Training-set:\\t\\t{}\".format(len(data.train.labels)))\n",
    "print(\"- Test-set:\\t\\t{}\".format(len(test_images)))\n",
    "print(\"- Validation-set:\\t{}\".format(len(data.valid.labels)))"
   ]
  },
  {
   "cell_type": "markdown",
   "metadata": {},
   "source": [
    "### Helper-function for plotting images"
   ]
  },
  {
   "cell_type": "code",
   "execution_count": 5,
   "metadata": {},
   "outputs": [],
   "source": [
    "def plot_images(images, cls_true, cls_pred=None):\n",
    "    \n",
    "    if len(images) == 0:\n",
    "        print(\"no images to show\")\n",
    "        return \n",
    "    elif len(images) <= 9:\n",
    "        print(\"images less than 9\")\n",
    "        return \n",
    "    \n",
    "    else:\n",
    "        random_indices = random.sample(range(len(images)), min(len(images), 9))\n",
    "        \n",
    "    if cls_pred is not None:\n",
    "        images, cls_true, cls_pred  = zip(*[(images[i], cls_true[i], cls_pred[i]) for i in random_indices])\n",
    "    else:\n",
    "        images, cls_true  = zip(*[(images[i], cls_true[i]) for i in random_indices])\n",
    "    \n",
    "    # Create figure with 3x3 sub-plots.\n",
    "    fig, axes = plt.subplots(3, 3)\n",
    "    fig.subplots_adjust(hspace=0.3, wspace=0.3)\n",
    "\n",
    "    for i, ax in enumerate(axes.flat):\n",
    "        # Plot image.\n",
    "        ax.imshow(images[i].reshape(img_size, img_size, num_channels))\n",
    "\n",
    "        # Show true and predicted classes.\n",
    "        if cls_pred is None:\n",
    "            xlabel = \"True: {0}\".format(cls_true[i])\n",
    "        else:\n",
    "            xlabel = \"True: {0}, Pred: {1}\".format(cls_true[i], cls_pred[i])\n",
    "\n",
    "        # Show the classes as the label on the x-axis.\n",
    "        ax.set_xlabel(xlabel)\n",
    "        \n",
    "        # Remove ticks from the plot.\n",
    "        ax.set_xticks([])\n",
    "        ax.set_yticks([])\n",
    "    \n",
    "    # Ensure the plot is shown correctly with multiple plots\n",
    "    # in a single Notebook cell.\n",
    "    plt.show()"
   ]
  },
  {
   "cell_type": "markdown",
   "metadata": {},
   "source": [
    "Function used to plot 9 images in a 3x3 grid (or fewer, depending on how many images are passed), and writing the true and predicted classes below each image."
   ]
  },
  {
   "cell_type": "markdown",
   "metadata": {},
   "source": [
    "### Plot a few images to see if data is correct"
   ]
  },
  {
   "cell_type": "code",
   "execution_count": 6,
   "metadata": {},
   "outputs": [],
   "source": [
    "# plt.imshow(data.train.images[0])"
   ]
  },
  {
   "cell_type": "code",
   "execution_count": 7,
   "metadata": {},
   "outputs": [
    {
     "data": {
      "image/png": "[encoded data removed]",
      "text/plain": [
       "<Figure size 432x288 with 9 Axes>"
      ]
     },
     "metadata": {},
     "output_type": "display_data"
    }
   ],
   "source": [
    "# Get some random images and their labels from the train set.\n",
    "\n",
    "images, cls_true  = data.train.images, data.train.cls\n",
    "\n",
    "# Plot the images and labels using our helper-function above.\n",
    "plot_images(images=images, cls_true=cls_true)"
   ]
  },
  {
   "cell_type": "markdown",
   "metadata": {},
   "source": [
    "## TensorFlow Graph\n",
    "\n",
    "The entire purpose of TensorFlow is to have a so-called computational graph that can be executed much more efficiently than if the same calculations were to be performed directly in Python. TensorFlow can be more efficient than NumPy because TensorFlow knows the entire computation graph that must be executed, while NumPy only knows the computation of a single mathematical operation at a time.\n",
    "\n",
    "TensorFlow can also automatically calculate the gradients that are needed to optimize the variables of the graph so as to make the model perform better. This is because the graph is a combination of simple mathematical expressions so the gradient of the entire graph can be calculated using the chain-rule for derivatives.\n",
    "\n",
    "A TensorFlow graph consists of the following parts which will be detailed below:\n",
    "\n",
    "* Placeholder variables used for inputting data to the graph.\n",
    "* Variables that are going to be optimized so as to make the convolutional network perform better.\n",
    "* The mathematical formulas for the convolutional network.\n",
    "* A cost measure that can be used to guide the optimization of the variables.\n",
    "* An optimization method which updates the variables."
   ]
  },
  {
   "cell_type": "markdown",
   "metadata": {},
   "source": [
    "### Helper-functions for creating new variables"
   ]
  },
  {
   "cell_type": "markdown",
   "metadata": {},
   "source": [
    "Functions for creating new TensorFlow variables in the given shape and initializing them with random values. Note that the initialization is not actually done at this point, it is merely being defined in the TensorFlow graph."
   ]
  },
  {
   "cell_type": "code",
   "execution_count": 8,
   "metadata": {},
   "outputs": [],
   "source": [
    "def new_weights(shape):\n",
    "    return tf.Variable(tf.truncated_normal(shape, stddev=0.05))"
   ]
  },
  {
   "cell_type": "code",
   "execution_count": 9,
   "metadata": {},
   "outputs": [],
   "source": [
    "def new_biases(length):\n",
    "    return tf.Variable(tf.constant(0.05, shape=[length]))"
   ]
  },
  {
   "cell_type": "markdown",
   "metadata": {},
   "source": [
    "### Helper-function for creating a new Convolutional Layer"
   ]
  },
  {
   "cell_type": "markdown",
   "metadata": {},
   "source": [
    "This function creates a new convolutional layer in the computational graph for TensorFlow. Nothing is actually calculated here, we are just adding the mathematical formulas to the TensorFlow graph.\n",
    "\n",
    "It is assumed that the input is a 4-dim tensor with the following dimensions:\n",
    "\n",
    "1. Image number.\n",
    "2. Y-axis of each image.\n",
    "3. X-axis of each image.\n",
    "4. Channels of each image.\n",
    "\n",
    "Note that the input channels may either be colour-channels, or it may be filter-channels if the input is produced from a previous convolutional layer.\n",
    "\n",
    "The output is another 4-dim tensor with the following dimensions:\n",
    "\n",
    "1. Image number, same as input.\n",
    "2. Y-axis of each image. If 2x2 pooling is used, then the height and width of the input images is divided by 2.\n",
    "3. X-axis of each image. Ditto.\n",
    "4. Channels produced by the convolutional filters."
   ]
  },
  {
   "cell_type": "code",
   "execution_count": 10,
   "metadata": {},
   "outputs": [],
   "source": [
    "def new_conv_layer(input,              # The previous layer.\n",
    "                   num_input_channels, # Num. channels in prev. layer.\n",
    "                   filter_size,        # Width and height of each filter.\n",
    "                   num_filters,        # Number of filters.\n",
    "                   use_pooling=True):  # Use 2x2 max-pooling.\n",
    "\n",
    "    # Shape of the filter-weights for the convolution.\n",
    "    # This format is determined by the TensorFlow API.\n",
    "    shape = [filter_size, filter_size, num_input_channels, num_filters]\n",
    "\n",
    "    # Create new weights aka. filters with the given shape.\n",
    "    weights = new_weights(shape=shape)\n",
    "\n",
    "    # Create new biases, one for each filter.\n",
    "    biases = new_biases(length=num_filters)\n",
    "\n",
    "    # Create the TensorFlow operation for convolution.\n",
    "    # Note the strides are set to 1 in all dimensions.\n",
    "    # The first and last stride must always be 1,\n",
    "    # because the first is for the image-number and\n",
    "    # the last is for the input-channel.\n",
    "    # But e.g. strides=[1, 2, 2, 1] would mean that the filter\n",
    "    # is moved 2 pixels across the x- and y-axis of the image.\n",
    "    # The padding is set to 'SAME' which means the input image\n",
    "    # is padded with zeroes so the size of the output is the same.\n",
    "    layer = tf.nn.conv2d(input=input,\n",
    "                         filter=weights,\n",
    "                         strides=[1, 1, 1, 1],\n",
    "                         padding='SAME')\n",
    "\n",
    "    # Add the biases to the results of the convolution.\n",
    "    # A bias-value is added to each filter-channel.\n",
    "    layer += biases\n",
    "\n",
    "    # Use pooling to down-sample the image resolution?\n",
    "    if use_pooling:\n",
    "        # This is 2x2 max-pooling, which means that we\n",
    "        # consider 2x2 windows and select the largest value\n",
    "        # in each window. Then we move 2 pixels to the next window.\n",
    "        layer = tf.nn.max_pool(value=layer,\n",
    "                               ksize=[1, 2, 2, 1],\n",
    "                               strides=[1, 2, 2, 1],\n",
    "                               padding='SAME')\n",
    "\n",
    "    # Rectified Linear Unit (ReLU).\n",
    "    # It calculates max(x, 0) for each input pixel x.\n",
    "    # This adds some non-linearity to the formula and allows us\n",
    "    # to learn more complicated functions.\n",
    "    layer = tf.nn.relu(layer)\n",
    "\n",
    "    # Note that ReLU is normally executed before the pooling,\n",
    "    # but since relu(max_pool(x)) == max_pool(relu(x)) we can\n",
    "    # save 75% of the relu-operations by max-pooling first.\n",
    "\n",
    "    # We return both the resulting layer and the filter-weights\n",
    "    # because we will plot the weights later.\n",
    "    return layer, weights"
   ]
  },
  {
   "cell_type": "markdown",
   "metadata": {},
   "source": [
    "### Helper-function for flattening a layer\n",
    "\n",
    "A convolutional layer produces an output tensor with 4 dimensions. We will add fully-connected layers after the convolution layers, so we need to reduce the 4-dim tensor to 2-dim which can be used as input to the fully-connected layer."
   ]
  },
  {
   "cell_type": "code",
   "execution_count": 11,
   "metadata": {},
   "outputs": [],
   "source": [
    "def flatten_layer(layer):\n",
    "    # Get the shape of the input layer.\n",
    "    layer_shape = layer.get_shape()\n",
    "\n",
    "    # The shape of the input layer is assumed to be:\n",
    "    # layer_shape == [num_images, img_height, img_width, num_channels]\n",
    "\n",
    "    # The number of features is: img_height * img_width * num_channels\n",
    "    # We can use a function from TensorFlow to calculate this.\n",
    "    num_features = layer_shape[1:4].num_elements()\n",
    "    \n",
    "    # Reshape the layer to [num_images, num_features].\n",
    "    # Note that we just set the size of the second dimension\n",
    "    # to num_features and the size of the first dimension to -1\n",
    "    # which means the size in that dimension is calculated\n",
    "    # so the total size of the tensor is unchanged from the reshaping.\n",
    "    layer_flat = tf.reshape(layer, [-1, num_features])\n",
    "\n",
    "    # The shape of the flattened layer is now:\n",
    "    # [num_images, img_height * img_width * num_channels]\n",
    "\n",
    "    # Return both the flattened layer and the number of features.\n",
    "    return layer_flat, num_features"
   ]
  },
  {
   "cell_type": "markdown",
   "metadata": {},
   "source": [
    "### Helper-function for creating a new Fully-Connected Layer"
   ]
  },
  {
   "cell_type": "markdown",
   "metadata": {},
   "source": [
    "This function creates a new fully-connected layer in the computational graph for TensorFlow. Nothing is actually calculated here, we are just adding the mathematical formulas to the TensorFlow graph.\n",
    "\n",
    "It is assumed that the input is a 2-dim tensor of shape `[num_images, num_inputs]`. The output is a 2-dim tensor of shape `[num_images, num_outputs]`."
   ]
  },
  {
   "cell_type": "code",
   "execution_count": 12,
   "metadata": {},
   "outputs": [],
   "source": [
    "def new_fc_layer(input,          # The previous layer.\n",
    "                 num_inputs,     # Num. inputs from prev. layer.\n",
    "                 num_outputs,    # Num. outputs.\n",
    "                 use_relu=True): # Use Rectified Linear Unit (ReLU)?\n",
    "\n",
    "    # Create new weights and biases.\n",
    "    weights = new_weights(shape=[num_inputs, num_outputs])\n",
    "    biases = new_biases(length=num_outputs)\n",
    "\n",
    "    # Calculate the layer as the matrix multiplication of\n",
    "    # the input and weights, and then add the bias-values.\n",
    "    layer = tf.matmul(input, weights) + biases\n",
    "\n",
    "    # Use ReLU?\n",
    "    if use_relu:\n",
    "        layer = tf.nn.relu(layer)\n",
    "\n",
    "    return layer"
   ]
  },
  {
   "cell_type": "markdown",
   "metadata": {},
   "source": [
    "### Placeholder variables"
   ]
  },
  {
   "cell_type": "markdown",
   "metadata": {},
   "source": [
    "Placeholder variables serve as the input to the TensorFlow computational graph that we may change each time we execute the graph. We call this feeding the placeholder variables and it is demonstrated further below.\n",
    "\n",
    "First we define the placeholder variable for the input images. This allows us to change the images that are input to the TensorFlow graph. This is a so-called tensor, which just means that it is a multi-dimensional vector or matrix. The data-type is set to `float32` and the shape is set to `[None, img_size_flat]`, where `None` means that the tensor may hold an arbitrary number of images with each image being a vector of length `img_size_flat`."
   ]
  },
  {
   "cell_type": "code",
   "execution_count": 13,
   "metadata": {},
   "outputs": [],
   "source": [
    "x = tf.placeholder(tf.float32, shape=[None, img_size_flat], name='x')"
   ]
  },
  {
   "cell_type": "markdown",
   "metadata": {},
   "source": [
    "The convolutional layers expect `x` to be encoded as a 4-dim tensor so we have to reshape it so its shape is instead `[num_images, img_height, img_width, num_channels]`. Note that `img_height == img_width == img_size` and `num_images` can be inferred automatically by using -1 for the size of the first dimension. So the reshape operation is:"
   ]
  },
  {
   "cell_type": "code",
   "execution_count": 14,
   "metadata": {},
   "outputs": [],
   "source": [
    "x_image = tf.reshape(x, [-1, img_size, img_size, num_channels])"
   ]
  },
  {
   "cell_type": "markdown",
   "metadata": {},
   "source": [
    "Next we have the placeholder variable for the true labels associated with the images that were input in the placeholder variable `x`. The shape of this placeholder variable is `[None, num_classes]` which means it may hold an arbitrary number of labels and each label is a vector of length `num_classes`."
   ]
  },
  {
   "cell_type": "code",
   "execution_count": 15,
   "metadata": {},
   "outputs": [],
   "source": [
    "y_true = tf.placeholder(tf.float32, shape=[None, num_classes], name='y_true')"
   ]
  },
  {
   "cell_type": "markdown",
   "metadata": {},
   "source": [
    "We could also have a placeholder variable for the class-number, but we will instead calculate it using argmax. Note that this is a TensorFlow operator so nothing is calculated at this point."
   ]
  },
  {
   "cell_type": "code",
   "execution_count": 16,
   "metadata": {},
   "outputs": [],
   "source": [
    "y_true_cls = tf.argmax(y_true, axis=1)"
   ]
  },
  {
   "cell_type": "markdown",
   "metadata": {},
   "source": [
    "### Convolutional Layer 1\n",
    "\n",
    "Create the first convolutional layer. It takes `x_image` as input and creates `num_filters1` different filters, each having width and height equal to `filter_size1`. Finally we wish to down-sample the image so it is half the size by using 2x2 max-pooling."
   ]
  },
  {
   "cell_type": "code",
   "execution_count": 17,
   "metadata": {},
   "outputs": [],
   "source": [
    "layer_conv1, weights_conv1 = \\\n",
    "    new_conv_layer(input=x_image,\n",
    "                   num_input_channels=num_channels,\n",
    "                   filter_size=filter_size1,\n",
    "                   num_filters=num_filters1,\n",
    "                   use_pooling=True)"
   ]
  },
  {
   "cell_type": "code",
   "execution_count": 18,
   "metadata": {},
   "outputs": [
    {
     "data": {
      "text/plain": [
       "<tf.Tensor 'Relu:0' shape=(?, 128, 128, 32) dtype=float32>"
      ]
     },
     "execution_count": 18,
     "metadata": {},
     "output_type": "execute_result"
    }
   ],
   "source": [
    "layer_conv1"
   ]
  },
  {
   "cell_type": "markdown",
   "metadata": {},
   "source": [
    "### Convolutional Layers 2 and 3\n",
    "\n",
    "Create the second and third convolutional layers, which take as input the output from the first and second convolutional layer respectively. The number of input channels corresponds to the number of filters in the previous convolutional layer."
   ]
  },
  {
   "cell_type": "code",
   "execution_count": 19,
   "metadata": {},
   "outputs": [],
   "source": [
    "layer_conv2, weights_conv2 = \\\n",
    "    new_conv_layer(input=layer_conv1,\n",
    "                   num_input_channels=num_filters1,\n",
    "                   filter_size=filter_size2,\n",
    "                   num_filters=num_filters2,\n",
    "                   use_pooling=True)"
   ]
  },
  {
   "cell_type": "code",
   "execution_count": 20,
   "metadata": {},
   "outputs": [
    {
     "data": {
      "text/plain": [
       "<tf.Tensor 'Relu_1:0' shape=(?, 64, 64, 32) dtype=float32>"
      ]
     },
     "execution_count": 20,
     "metadata": {},
     "output_type": "execute_result"
    }
   ],
   "source": [
    "layer_conv2"
   ]
  },
  {
   "cell_type": "code",
   "execution_count": 21,
   "metadata": {},
   "outputs": [],
   "source": [
    "layer_conv3, weights_conv3 = \\\n",
    "    new_conv_layer(input=layer_conv2,\n",
    "                   num_input_channels=num_filters2,\n",
    "                   filter_size=filter_size3,\n",
    "                   num_filters=num_filters3,\n",
    "                   use_pooling=True)"
   ]
  },
  {
   "cell_type": "code",
   "execution_count": 22,
   "metadata": {},
   "outputs": [
    {
     "data": {
      "text/plain": [
       "<tf.Tensor 'Relu_2:0' shape=(?, 32, 32, 64) dtype=float32>"
      ]
     },
     "execution_count": 22,
     "metadata": {},
     "output_type": "execute_result"
    }
   ],
   "source": [
    "layer_conv3"
   ]
  },
  {
   "cell_type": "markdown",
   "metadata": {},
   "source": [
    "### Flatten Layer\n",
    "\n",
    "The convolutional layers output 4-dim tensors. We now wish to use these as input in a fully-connected network, which requires for the tensors to be reshaped or flattened to 2-dim tensors."
   ]
  },
  {
   "cell_type": "code",
   "execution_count": 23,
   "metadata": {},
   "outputs": [],
   "source": [
    "layer_flat, num_features = flatten_layer(layer_conv3)"
   ]
  },
  {
   "cell_type": "code",
   "execution_count": 24,
   "metadata": {},
   "outputs": [
    {
     "data": {
      "text/plain": [
       "<tf.Tensor 'Reshape_1:0' shape=(?, 65536) dtype=float32>"
      ]
     },
     "execution_count": 24,
     "metadata": {},
     "output_type": "execute_result"
    }
   ],
   "source": [
    "layer_flat"
   ]
  },
  {
   "cell_type": "code",
   "execution_count": 25,
   "metadata": {},
   "outputs": [
    {
     "data": {
      "text/plain": [
       "65536"
      ]
     },
     "execution_count": 25,
     "metadata": {},
     "output_type": "execute_result"
    }
   ],
   "source": [
    "num_features"
   ]
  },
  {
   "cell_type": "markdown",
   "metadata": {},
   "source": [
    "### Fully-Connected Layer 1\n",
    "\n",
    "Add a fully-connected layer to the network. The input is the flattened layer from the previous convolution. The number of neurons or nodes in the fully-connected layer is `fc_size`. ReLU is used so we can learn non-linear relations."
   ]
  },
  {
   "cell_type": "code",
   "execution_count": 26,
   "metadata": {},
   "outputs": [],
   "source": [
    "layer_fc1 = new_fc_layer(input=layer_flat,\n",
    "                         num_inputs=num_features,\n",
    "                         num_outputs=fc_size,\n",
    "                         use_relu=True)"
   ]
  },
  {
   "cell_type": "markdown",
   "metadata": {},
   "source": [
    "Check that the output of the fully-connected layer is a tensor with shape (?, 128) where the ? means there is an arbitrary number of images and `fc_size` == 128."
   ]
  },
  {
   "cell_type": "code",
   "execution_count": 27,
   "metadata": {},
   "outputs": [
    {
     "data": {
      "text/plain": [
       "<tf.Tensor 'Relu_3:0' shape=(?, 128) dtype=float32>"
      ]
     },
     "execution_count": 27,
     "metadata": {},
     "output_type": "execute_result"
    }
   ],
   "source": [
    "layer_fc1"
   ]
  },
  {
   "cell_type": "markdown",
   "metadata": {},
   "source": [
    "### Fully-Connected Layer 2\n",
    "\n",
    "Add another fully-connected layer that outputs vectors of length num_classes for determining which of the classes the input image belongs to. Note that ReLU is not used in this layer."
   ]
  },
  {
   "cell_type": "code",
   "execution_count": 28,
   "metadata": {},
   "outputs": [],
   "source": [
    "layer_fc2 = new_fc_layer(input=layer_fc1,\n",
    "                         num_inputs=fc_size,\n",
    "                         num_outputs=num_classes,\n",
    "                         use_relu=False)"
   ]
  },
  {
   "cell_type": "code",
   "execution_count": 29,
   "metadata": {},
   "outputs": [
    {
     "data": {
      "text/plain": [
       "<tf.Tensor 'add_4:0' shape=(?, 2) dtype=float32>"
      ]
     },
     "execution_count": 29,
     "metadata": {},
     "output_type": "execute_result"
    }
   ],
   "source": [
    "layer_fc2"
   ]
  },
  {
   "cell_type": "markdown",
   "metadata": {},
   "source": [
    "### Predicted Class"
   ]
  },
  {
   "cell_type": "markdown",
   "metadata": {},
   "source": [
    "The second fully-connected layer estimates how likely it is that the input image belongs to each of the 2 classes. However, these estimates are a bit rough and difficult to interpret because the numbers may be very small or large, so we want to normalize them so that each element is limited between zero and one and the all the elements sum to one. This is calculated using the so-called softmax function and the result is stored in `y_pred`."
   ]
  },
  {
   "cell_type": "code",
   "execution_count": 30,
   "metadata": {},
   "outputs": [],
   "source": [
    "y_pred = tf.nn.softmax(layer_fc2)"
   ]
  },
  {
   "cell_type": "markdown",
   "metadata": {},
   "source": [
    "The class-number is the index of the largest element."
   ]
  },
  {
   "cell_type": "code",
   "execution_count": 31,
   "metadata": {},
   "outputs": [],
   "source": [
    "y_pred_cls = tf.argmax(y_pred, axis=1)"
   ]
  },
  {
   "cell_type": "markdown",
   "metadata": {},
   "source": [
    "### Cost-function to be optimized"
   ]
  },
  {
   "cell_type": "markdown",
   "metadata": {},
   "source": [
    "To make the model better at classifying the input images, we must somehow change the variables for all the network layers. To do this we first need to know how well the model currently performs by comparing the predicted output of the model `y_pred` to the desired output `y_true`.\n",
    "\n",
    "The cross-entropy is a performance measure used in classification. The cross-entropy is a continuous function that is always positive and if the predicted output of the model exactly matches the desired output then the cross-entropy equals zero. The goal of optimization is therefore to minimize the cross-entropy so it gets as close to zero as possible by changing the variables of the network layers.\n",
    "\n",
    "TensorFlow has a built-in function for calculating the cross-entropy. Note that the function calculates the softmax internally so we must use the output of `layer_fc2` directly rather than `y_pred` which has already had the softmax applied."
   ]
  },
  {
   "cell_type": "code",
   "execution_count": 32,
   "metadata": {},
   "outputs": [],
   "source": [
    "cross_entropy = tf.nn.softmax_cross_entropy_with_logits_v2(logits=layer_fc2, labels=y_true)"
   ]
  },
  {
   "cell_type": "markdown",
   "metadata": {},
   "source": [
    "We have now calculated the cross-entropy for each of the image classifications so we have a measure of how well the model performs on each image individually. But in order to use the cross-entropy to guide the optimization of the model's variables we need a single scalar value, so we simply take the average of the cross-entropy for all the image classifications."
   ]
  },
  {
   "cell_type": "code",
   "execution_count": 33,
   "metadata": {},
   "outputs": [],
   "source": [
    "cost = tf.reduce_mean(cross_entropy)"
   ]
  },
  {
   "cell_type": "markdown",
   "metadata": {},
   "source": [
    "### Optimization Method"
   ]
  },
  {
   "cell_type": "markdown",
   "metadata": {},
   "source": [
    "Now that we have a cost measure that must be minimized, we can then create an optimizer. In this case it is the `AdamOptimizer` which is an advanced form of Gradient Descent.\n",
    "\n",
    "Note that optimization is not performed at this point. In fact, nothing is calculated at all, we just add the optimizer-object to the TensorFlow graph for later execution."
   ]
  },
  {
   "cell_type": "code",
   "execution_count": 34,
   "metadata": {},
   "outputs": [],
   "source": [
    "optimizer = tf.train.AdamOptimizer(learning_rate=1e-4).minimize(cost)"
   ]
  },
  {
   "cell_type": "markdown",
   "metadata": {},
   "source": [
    "### Performance Measures"
   ]
  },
  {
   "cell_type": "markdown",
   "metadata": {},
   "source": [
    "We need a few more performance measures to display the progress to the user.\n",
    "\n",
    "This is a vector of booleans whether the predicted class equals the true class of each image."
   ]
  },
  {
   "cell_type": "code",
   "execution_count": 35,
   "metadata": {},
   "outputs": [],
   "source": [
    "correct_prediction = tf.equal(y_pred_cls, y_true_cls)"
   ]
  },
  {
   "cell_type": "markdown",
   "metadata": {},
   "source": [
    "This calculates the classification accuracy by first type-casting the vector of booleans to floats, so that False becomes 0 and True becomes 1, and then calculating the average of these numbers."
   ]
  },
  {
   "cell_type": "code",
   "execution_count": 36,
   "metadata": {},
   "outputs": [],
   "source": [
    "accuracy = tf.reduce_mean(tf.cast(correct_prediction, tf.float32))"
   ]
  },
  {
   "cell_type": "markdown",
   "metadata": {},
   "source": [
    "## TensorFlow Run"
   ]
  },
  {
   "cell_type": "markdown",
   "metadata": {},
   "source": [
    "### Create TensorFlow session\n",
    "\n",
    "Once the TensorFlow graph has been created, we have to create a TensorFlow session which is used to execute the graph."
   ]
  },
  {
   "cell_type": "code",
   "execution_count": 37,
   "metadata": {},
   "outputs": [],
   "source": [
    "session = tf.Session()"
   ]
  },
  {
   "cell_type": "markdown",
   "metadata": {},
   "source": [
    "### Initialize variables\n",
    "\n",
    "The variables for `weights` and `biases` must be initialized before we start optimizing them."
   ]
  },
  {
   "cell_type": "code",
   "execution_count": 38,
   "metadata": {},
   "outputs": [],
   "source": [
    "session.run(tf.global_variables_initializer())"
   ]
  },
  {
   "cell_type": "markdown",
   "metadata": {},
   "source": [
    "### Helper-function to perform optimization iterations"
   ]
  },
  {
   "cell_type": "markdown",
   "metadata": {},
   "source": [
    "It takes a long time to calculate the gradient of the model using the entirety of a large dataset\n",
    ". We therefore only use a small batch of images in each iteration of the optimizer.\n",
    "\n",
    "If your computer crashes or becomes very slow because you run out of RAM, then you may try and lower this number, but you may then need to perform more optimization iterations."
   ]
  },
  {
   "cell_type": "code",
   "execution_count": 39,
   "metadata": {},
   "outputs": [],
   "source": [
    "train_batch_size = batch_size"
   ]
  },
  {
   "cell_type": "code",
   "execution_count": 40,
   "metadata": {},
   "outputs": [],
   "source": [
    "def print_progress(epoch, feed_dict_train, feed_dict_validate, val_loss):\n",
    "    # Calculate the accuracy on the training-set.\n",
    "    acc = session.run(accuracy, feed_dict=feed_dict_train)\n",
    "    val_acc = session.run(accuracy, feed_dict=feed_dict_validate)\n",
    "    msg = \"Epoch {0} --- Training Accuracy: {1:>6.1%}, Validation Accuracy: {2:>6.1%}, Validation Loss: {3:.3f}\"\n",
    "    print(msg.format(epoch + 1, acc, val_acc, val_loss))"
   ]
  },
  {
   "cell_type": "markdown",
   "metadata": {},
   "source": [
    "Function for performing a number of optimization iterations so as to gradually improve the variables of the network layers. In each iteration, a new batch of data is selected from the training-set and then TensorFlow executes the optimizer using those training samples.  The progress is printed every 100 iterations."
   ]
  },
  {
   "cell_type": "code",
   "execution_count": 41,
   "metadata": {},
   "outputs": [],
   "source": [
    "# Counter for total number of iterations performed so far.\n",
    "total_iterations = 0\n",
    "\n",
    "def optimize(num_iterations):\n",
    "    # Ensure we update the global variable rather than a local copy.\n",
    "    global total_iterations\n",
    "\n",
    "    # Start-time used for printing time-usage below.\n",
    "    start_time = time.time()\n",
    "    \n",
    "    best_val_loss = float(\"inf\")\n",
    "    patience = 0\n",
    "\n",
    "    for i in range(total_iterations,\n",
    "                   total_iterations + num_iterations):\n",
    "\n",
    "        # Get a batch of training examples.\n",
    "        # x_batch now holds a batch of images and\n",
    "        # y_true_batch are the true labels for those images.\n",
    "        x_batch, y_true_batch, _, cls_batch = data.train.next_batch(train_batch_size)\n",
    "        x_valid_batch, y_valid_batch, _, valid_cls_batch = data.valid.next_batch(train_batch_size)\n",
    "\n",
    "        # Convert shape from [num examples, rows, columns, depth]\n",
    "        # to [num examples, flattened image shape]\n",
    "\n",
    "        x_batch = x_batch.reshape(train_batch_size, img_size_flat)\n",
    "        x_valid_batch = x_valid_batch.reshape(train_batch_size, img_size_flat)\n",
    "\n",
    "        # Put the batch into a dict with the proper names\n",
    "        # for placeholder variables in the TensorFlow graph.\n",
    "        feed_dict_train = {x: x_batch,\n",
    "                           y_true: y_true_batch}\n",
    "        \n",
    "        feed_dict_validate = {x: x_valid_batch,\n",
    "                              y_true: y_valid_batch}\n",
    "\n",
    "        # Run the optimizer using this batch of training data.\n",
    "        # TensorFlow assigns the variables in feed_dict_train\n",
    "        # to the placeholder variables and then runs the optimizer.\n",
    "        session.run(optimizer, feed_dict=feed_dict_train)\n",
    "        \n",
    "\n",
    "        # Print status at end of each epoch (defined as full pass through training dataset).\n",
    "        if i % int(data.train.num_examples/batch_size) == 0: \n",
    "            val_loss = session.run(cost, feed_dict=feed_dict_validate)\n",
    "            epoch = int(i / int(data.train.num_examples/batch_size))\n",
    "            \n",
    "            print_progress(epoch, feed_dict_train, feed_dict_validate, val_loss)\n",
    "            \n",
    "            if early_stopping:    \n",
    "                if val_loss < best_val_loss:\n",
    "                    best_val_loss = val_loss\n",
    "                    patience = 0\n",
    "                else:\n",
    "                    patience += 1\n",
    "\n",
    "                if patience == early_stopping:\n",
    "                    break\n",
    "\n",
    "    # Update the total number of iterations performed.\n",
    "    total_iterations += num_iterations\n",
    "\n",
    "    # Ending time.\n",
    "    end_time = time.time()\n",
    "\n",
    "    # Difference between start and end-times.\n",
    "    time_dif = end_time - start_time\n",
    "\n",
    "    # Print the time-usage.\n",
    "    print(\"Time elapsed: \" + str(timedelta(seconds=int(round(time_dif)))))"
   ]
  },
  {
   "cell_type": "markdown",
   "metadata": {},
   "source": [
    "### Helper-function to plot example errors"
   ]
  },
  {
   "cell_type": "markdown",
   "metadata": {},
   "source": [
    "Function for plotting examples of images from the test-set that have been mis-classified."
   ]
  },
  {
   "cell_type": "code",
   "execution_count": 42,
   "metadata": {},
   "outputs": [],
   "source": [
    "def plot_example_errors(cls_pred, correct):\n",
    "    # cls_pred is an array of the predicted class-number for\n",
    "    # all images in the test-set.\n",
    "\n",
    "    # correct is a boolean array whether the predicted class\n",
    "    # is equal to the true class for each image in the test-set.\n",
    "\n",
    "    # Negate the boolean array.\n",
    "    incorrect = (correct == False)\n",
    "    \n",
    "    # Get the images from the test-set that have been\n",
    "    # incorrectly classified.\n",
    "    images = data.valid.images[incorrect]\n",
    "    \n",
    "    # Get the predicted classes for those images.\n",
    "    cls_pred = cls_pred[incorrect]\n",
    "\n",
    "    # Get the true classes for those images.\n",
    "    cls_true = data.valid.cls[incorrect]\n",
    "\n",
    "    # Plot the first 9 images.\n",
    "    plot_images(images=images, cls_true=cls_true, cls_pred=cls_pred)"
   ]
  },
  {
   "cell_type": "markdown",
   "metadata": {},
   "source": [
    "### Helper-function to plot confusion matrix"
   ]
  },
  {
   "cell_type": "code",
   "execution_count": 43,
   "metadata": {},
   "outputs": [],
   "source": [
    "def plot_confusion_matrix(cls_pred):\n",
    "    # cls_pred is an array of the predicted class-number for\n",
    "    # all images in the test-set.\n",
    "\n",
    "    # Get the true classifications for the test-set.\n",
    "    cls_true = data.valid.cls\n",
    "    \n",
    "    # Get the confusion matrix using sklearn.\n",
    "    cm = confusion_matrix(y_true=cls_true,\n",
    "                          y_pred=cls_pred)\n",
    "\n",
    "    # Print the confusion matrix as text.\n",
    "    print(cm)\n",
    "\n",
    "    # Plot the confusion matrix as an image.\n",
    "    plt.matshow(cm)\n",
    "\n",
    "    # Make various adjustments to the plot.\n",
    "    plt.colorbar()\n",
    "    tick_marks = np.arange(num_classes)\n",
    "    plt.xticks(tick_marks, range(num_classes))\n",
    "    plt.yticks(tick_marks, range(num_classes))\n",
    "    plt.xlabel('Predicted')\n",
    "    plt.ylabel('True')\n",
    "\n",
    "    # Ensure the plot is shown correctly with multiple plots\n",
    "    # in a single Notebook cell.\n",
    "    plt.show()"
   ]
  },
  {
   "cell_type": "markdown",
   "metadata": {},
   "source": [
    "### Helper-function for showing the performance"
   ]
  },
  {
   "cell_type": "markdown",
   "metadata": {},
   "source": [
    "Function for printing the classification accuracy on the test-set.\n",
    "\n",
    "It takes a while to compute the classification for all the images in the test-set, that's why the results are re-used by calling the above functions directly from this function, so the classifications don't have to be recalculated by each function.\n",
    "\n",
    "Note that this function can use a lot of computer memory, which is why the test-set is split into smaller batches. If you have little RAM in your computer and it crashes, then you can try and lower the batch-size."
   ]
  },
  {
   "cell_type": "code",
   "execution_count": 44,
   "metadata": {},
   "outputs": [],
   "source": [
    "def print_validation_accuracy(show_example_errors=False, show_confusion_matrix=False):\n",
    "\n",
    "    # Number of images in the test-set.\n",
    "    num_test = len(data.valid.images)\n",
    "\n",
    "    # Allocate an array for the predicted classes which\n",
    "    # will be calculated in batches and filled into this array.\n",
    "    cls_pred = np.zeros(shape=num_test, dtype=np.int)\n",
    "\n",
    "    # Now calculate the predicted classes for the batches.\n",
    "    # We will just iterate through all the batches.\n",
    "    # There might be a more clever and Pythonic way of doing this.\n",
    "\n",
    "    # The starting index for the next batch is denoted i.\n",
    "    i = 0\n",
    "\n",
    "    while i < num_test:\n",
    "        # The ending index for the next batch is denoted j.\n",
    "        j = min(i + batch_size, num_test)\n",
    "\n",
    "        # Get the images from the test-set between index i and j.\n",
    "        images = data.valid.images[i:j, :].reshape(batch_size, img_size_flat)\n",
    "        \n",
    "\n",
    "        # Get the associated labels.\n",
    "        labels = data.valid.labels[i:j, :]\n",
    "\n",
    "        # Create a feed-dict with these images and labels.\n",
    "        feed_dict = {x: images,\n",
    "                     y_true: labels}\n",
    "\n",
    "        # Calculate the predicted class using TensorFlow.\n",
    "        cls_pred[i:j] = session.run(y_pred_cls, feed_dict=feed_dict)\n",
    "\n",
    "        # Set the start-index for the next batch to the\n",
    "        # end-index of the current batch.\n",
    "        i = j\n",
    "\n",
    "    cls_true = np.array(data.valid.cls)\n",
    "    cls_pred = np.array([classes[x] for x in cls_pred]) \n",
    "\n",
    "    # Create a boolean array whether each image is correctly classified.\n",
    "    correct = (cls_true == cls_pred)\n",
    "\n",
    "    # Calculate the number of correctly classified images.\n",
    "    # When summing a boolean array, False means 0 and True means 1.\n",
    "    correct_sum = correct.sum()\n",
    "\n",
    "    # Classification accuracy is the number of correctly classified\n",
    "    # images divided by the total number of images in the test-set.\n",
    "    acc = float(correct_sum) / num_test\n",
    "\n",
    "    # Print the accuracy.\n",
    "    msg = \"Accuracy on Test-Set: {0:.1%} ({1} / {2})\"\n",
    "    print(msg.format(acc, correct_sum, num_test))\n",
    "\n",
    "#     Plot some examples of mis-classifications, if desired.\n",
    "    if show_example_errors:\n",
    "        print(\"Example errors:\")\n",
    "        plot_example_errors(cls_pred=cls_pred, correct=correct)\n",
    "\n",
    "    # Plot the confusion matrix, if desired.\n",
    "    if show_confusion_matrix:\n",
    "        print(\"Confusion Matrix:\")\n",
    "        plot_confusion_matrix(cls_pred=cls_pred)"
   ]
  },
  {
   "cell_type": "markdown",
   "metadata": {},
   "source": [
    "## Performance after 1 optimization iteration"
   ]
  },
  {
   "cell_type": "code",
   "execution_count": 45,
   "metadata": {},
   "outputs": [],
   "source": [
    "# !pip install --upgrade tensorflow-gpu==1."
   ]
  },
  {
   "cell_type": "code",
   "execution_count": 46,
   "metadata": {
    "scrolled": false
   },
   "outputs": [
    {
     "name": "stdout",
     "output_type": "stream",
     "text": [
      "Epoch 1 --- Training Accuracy:  87.5%, Validation Accuracy:  93.8%, Validation Loss: 0.291\n",
      "Time elapsed: 0:00:02\n"
     ]
    }
   ],
   "source": [
    "optimize(num_iterations=1)\n",
    "# print_validation_accuracy()"
   ]
  },
  {
   "cell_type": "markdown",
   "metadata": {},
   "source": [
    "## Performance after 100 optimization iterations\n",
    "\n",
    "After 100 optimization iterations, the model should have significantly improved its classification accuracy."
   ]
  },
  {
   "cell_type": "code",
   "execution_count": 47,
   "metadata": {
    "scrolled": true
   },
   "outputs": [
    {
     "name": "stdout",
     "output_type": "stream",
     "text": [
      "Time elapsed: 0:00:05\n"
     ]
    }
   ],
   "source": [
    "optimize(num_iterations=99)  # We already performed 1 iteration above."
   ]
  },
  {
   "cell_type": "code",
   "execution_count": 48,
   "metadata": {},
   "outputs": [],
   "source": [
    "# print_validation_accuracy(show_example_errors=True)"
   ]
  },
  {
   "cell_type": "markdown",
   "metadata": {},
   "source": [
    "## Performance after 1000 optimization iterations"
   ]
  },
  {
   "cell_type": "code",
   "execution_count": 49,
   "metadata": {
    "scrolled": false
   },
   "outputs": [
    {
     "name": "stdout",
     "output_type": "stream",
     "text": [
      "Epoch 2 --- Training Accuracy:  90.6%, Validation Accuracy: 100.0%, Validation Loss: 0.054\n",
      "Epoch 3 --- Training Accuracy:  96.9%, Validation Accuracy:  93.8%, Validation Loss: 0.149\n",
      "Epoch 4 --- Training Accuracy:  96.9%, Validation Accuracy: 100.0%, Validation Loss: 0.054\n",
      "Epoch 5 --- Training Accuracy:  96.9%, Validation Accuracy: 100.0%, Validation Loss: 0.020\n",
      "Epoch 6 --- Training Accuracy: 100.0%, Validation Accuracy:  93.8%, Validation Loss: 0.127\n",
      "Epoch 7 --- Training Accuracy: 100.0%, Validation Accuracy: 100.0%, Validation Loss: 0.015\n",
      "Time elapsed: 0:00:45\n"
     ]
    }
   ],
   "source": [
    "optimize(num_iterations=900)  # We performed 100 iterations above."
   ]
  },
  {
   "cell_type": "code",
   "execution_count": 50,
   "metadata": {
    "scrolled": true
   },
   "outputs": [],
   "source": [
    "# print_validation_accuracy(show_example_errors=True)"
   ]
  },
  {
   "cell_type": "markdown",
   "metadata": {},
   "source": [
    "## Performance after 10,000 optimization iterations"
   ]
  },
  {
   "cell_type": "code",
   "execution_count": 51,
   "metadata": {
    "scrolled": false
   },
   "outputs": [
    {
     "name": "stdout",
     "output_type": "stream",
     "text": [
      "Epoch 8 --- Training Accuracy: 100.0%, Validation Accuracy:  93.8%, Validation Loss: 0.122\n",
      "Epoch 9 --- Training Accuracy: 100.0%, Validation Accuracy: 100.0%, Validation Loss: 0.047\n",
      "Epoch 10 --- Training Accuracy: 100.0%, Validation Accuracy: 100.0%, Validation Loss: 0.017\n",
      "Epoch 11 --- Training Accuracy: 100.0%, Validation Accuracy:  90.6%, Validation Loss: 0.164\n",
      "Epoch 12 --- Training Accuracy: 100.0%, Validation Accuracy: 100.0%, Validation Loss: 0.009\n",
      "Epoch 13 --- Training Accuracy: 100.0%, Validation Accuracy:  90.6%, Validation Loss: 0.116\n",
      "Epoch 14 --- Training Accuracy: 100.0%, Validation Accuracy: 100.0%, Validation Loss: 0.042\n",
      "Epoch 15 --- Training Accuracy: 100.0%, Validation Accuracy: 100.0%, Validation Loss: 0.010\n",
      "Epoch 16 --- Training Accuracy: 100.0%, Validation Accuracy:  87.5%, Validation Loss: 0.237\n",
      "Epoch 17 --- Training Accuracy: 100.0%, Validation Accuracy: 100.0%, Validation Loss: 0.004\n",
      "Epoch 18 --- Training Accuracy: 100.0%, Validation Accuracy:  90.6%, Validation Loss: 0.129\n",
      "Epoch 19 --- Training Accuracy: 100.0%, Validation Accuracy: 100.0%, Validation Loss: 0.034\n",
      "Epoch 20 --- Training Accuracy: 100.0%, Validation Accuracy: 100.0%, Validation Loss: 0.024\n",
      "Epoch 21 --- Training Accuracy: 100.0%, Validation Accuracy:  87.5%, Validation Loss: 0.312\n",
      "Epoch 22 --- Training Accuracy: 100.0%, Validation Accuracy: 100.0%, Validation Loss: 0.004\n",
      "Epoch 23 --- Training Accuracy: 100.0%, Validation Accuracy:  90.6%, Validation Loss: 0.310\n",
      "Epoch 24 --- Training Accuracy: 100.0%, Validation Accuracy: 100.0%, Validation Loss: 0.019\n",
      "Epoch 25 --- Training Accuracy: 100.0%, Validation Accuracy: 100.0%, Validation Loss: 0.014\n",
      "Epoch 26 --- Training Accuracy: 100.0%, Validation Accuracy:  84.4%, Validation Loss: 0.321\n",
      "Epoch 27 --- Training Accuracy: 100.0%, Validation Accuracy: 100.0%, Validation Loss: 0.025\n",
      "Epoch 28 --- Training Accuracy: 100.0%, Validation Accuracy:  90.6%, Validation Loss: 0.222\n",
      "Epoch 29 --- Training Accuracy: 100.0%, Validation Accuracy:  96.9%, Validation Loss: 0.035\n",
      "Epoch 30 --- Training Accuracy: 100.0%, Validation Accuracy: 100.0%, Validation Loss: 0.014\n",
      "Epoch 31 --- Training Accuracy: 100.0%, Validation Accuracy:  87.5%, Validation Loss: 0.417\n",
      "Epoch 32 --- Training Accuracy: 100.0%, Validation Accuracy: 100.0%, Validation Loss: 0.001\n",
      "Epoch 33 --- Training Accuracy: 100.0%, Validation Accuracy:  90.6%, Validation Loss: 0.235\n",
      "Epoch 34 --- Training Accuracy: 100.0%, Validation Accuracy: 100.0%, Validation Loss: 0.008\n",
      "Epoch 35 --- Training Accuracy: 100.0%, Validation Accuracy: 100.0%, Validation Loss: 0.002\n",
      "Epoch 36 --- Training Accuracy: 100.0%, Validation Accuracy:  87.5%, Validation Loss: 0.545\n",
      "Epoch 37 --- Training Accuracy: 100.0%, Validation Accuracy: 100.0%, Validation Loss: 0.002\n",
      "Epoch 38 --- Training Accuracy: 100.0%, Validation Accuracy:  90.6%, Validation Loss: 0.231\n",
      "Epoch 39 --- Training Accuracy: 100.0%, Validation Accuracy: 100.0%, Validation Loss: 0.006\n",
      "Epoch 40 --- Training Accuracy: 100.0%, Validation Accuracy: 100.0%, Validation Loss: 0.001\n",
      "Epoch 41 --- Training Accuracy: 100.0%, Validation Accuracy:  87.5%, Validation Loss: 0.615\n",
      "Epoch 42 --- Training Accuracy: 100.0%, Validation Accuracy: 100.0%, Validation Loss: 0.001\n",
      "Epoch 43 --- Training Accuracy: 100.0%, Validation Accuracy:  90.6%, Validation Loss: 0.328\n",
      "Epoch 44 --- Training Accuracy: 100.0%, Validation Accuracy: 100.0%, Validation Loss: 0.003\n",
      "Epoch 45 --- Training Accuracy: 100.0%, Validation Accuracy: 100.0%, Validation Loss: 0.000\n",
      "Epoch 46 --- Training Accuracy: 100.0%, Validation Accuracy:  87.5%, Validation Loss: 0.652\n",
      "Epoch 47 --- Training Accuracy: 100.0%, Validation Accuracy: 100.0%, Validation Loss: 0.000\n",
      "Epoch 48 --- Training Accuracy: 100.0%, Validation Accuracy:  90.6%, Validation Loss: 0.448\n",
      "Epoch 49 --- Training Accuracy: 100.0%, Validation Accuracy: 100.0%, Validation Loss: 0.004\n",
      "Epoch 50 --- Training Accuracy: 100.0%, Validation Accuracy: 100.0%, Validation Loss: 0.000\n",
      "Epoch 51 --- Training Accuracy: 100.0%, Validation Accuracy:  90.6%, Validation Loss: 0.689\n",
      "Epoch 52 --- Training Accuracy: 100.0%, Validation Accuracy: 100.0%, Validation Loss: 0.000\n",
      "Epoch 53 --- Training Accuracy: 100.0%, Validation Accuracy:  90.6%, Validation Loss: 0.563\n",
      "Epoch 54 --- Training Accuracy: 100.0%, Validation Accuracy: 100.0%, Validation Loss: 0.008\n",
      "Epoch 55 --- Training Accuracy: 100.0%, Validation Accuracy: 100.0%, Validation Loss: 0.000\n",
      "Epoch 56 --- Training Accuracy: 100.0%, Validation Accuracy:  90.6%, Validation Loss: 0.733\n",
      "Epoch 57 --- Training Accuracy: 100.0%, Validation Accuracy: 100.0%, Validation Loss: 0.000\n",
      "Epoch 58 --- Training Accuracy: 100.0%, Validation Accuracy:  90.6%, Validation Loss: 0.612\n",
      "Epoch 59 --- Training Accuracy: 100.0%, Validation Accuracy: 100.0%, Validation Loss: 0.003\n",
      "Epoch 60 --- Training Accuracy: 100.0%, Validation Accuracy: 100.0%, Validation Loss: 0.000\n",
      "Epoch 61 --- Training Accuracy: 100.0%, Validation Accuracy:  90.6%, Validation Loss: 0.757\n",
      "Epoch 62 --- Training Accuracy: 100.0%, Validation Accuracy: 100.0%, Validation Loss: 0.000\n",
      "Time elapsed: 0:07:34\n"
     ]
    }
   ],
   "source": [
    "optimize(num_iterations=9000) # We performed 1000 iterations above."
   ]
  },
  {
   "cell_type": "code",
   "execution_count": 52,
   "metadata": {
    "scrolled": true
   },
   "outputs": [],
   "source": [
    "# print_validation_accuracy(show_example_errors=True, show_confusion_matrix=True)"
   ]
  },
  {
   "cell_type": "markdown",
   "metadata": {},
   "source": [
    "## Test on Sample Image"
   ]
  },
  {
   "cell_type": "code",
   "execution_count": 53,
   "metadata": {},
   "outputs": [],
   "source": [
    "# prepare testing data\n",
    "test_dataset_A = glob('.\\\\data\\\\test\\\\{}\\\\*.jpg'.format(classes[0]))\n",
    "test_dataset_B = glob('.\\\\data\\\\test\\\\{}\\\\*.jpg'.format(classes[1]))\n",
    "\n",
    "# test_data_A_list = []\n",
    "# test_data_B_list = []\n",
    "\n",
    "# test_dataset_A\n",
    "\n",
    "\n",
    "# for sample_index in range(min(len(test_dataset_A), len(test_dataset_B))):\n",
    "#     test_batch_files = list(zip(test_dataset_A[sample_index : (sample_index + 1)],\n",
    "#                                 test_dataset_B[sample_index : (sample_index + 1)]))\n",
    "#     test_batch_images = [load_train_data(test_batch_file, 286, 256) for test_batch_file in test_batch_files]\n",
    "#     test_batch_images = np.array(test_batch_images).astype(np.float32)\n",
    "\n",
    "#     test_data_A_list.append(test_batch_images[:, :, :, : 3])\n",
    "#     test_data_B_list.append(test_batch_images[:, :, :, 3:6])"
   ]
  },
  {
   "cell_type": "code",
   "execution_count": 54,
   "metadata": {},
   "outputs": [],
   "source": [
    "# plt.axis('off')\n",
    "\n",
    "# print(test_dataset_A[0])\n",
    "\n",
    "# test_cat = cv2.imread(test_dataset_A[0])\n",
    "\n",
    "# # plt.imshow(test_cat)\n",
    "# # plt.imshow(test_cat)\n",
    "# # plt.imshow(test_cat)\n",
    "\n",
    "# for sample_index in test_dataset_A:\n",
    "    \n",
    "# #     print(sample_index)\n",
    "#     test_cat = cv2.imread(sample_index)\n",
    "#     # print(test_cat)\n",
    "# #     cv2.imshow('My Image', test_cat)\n",
    "\n",
    "#     test_cat = cv2.resize(test_cat, (img_size, img_size), cv2.INTER_LINEAR) / 255\n",
    "\n",
    "#     preview_cat = plt.imshow(test_cat.reshape(img_size, img_size, num_channels))"
   ]
  },
  {
   "cell_type": "code",
   "execution_count": 55,
   "metadata": {},
   "outputs": [
    {
     "data": {
      "text/plain": [
       "256"
      ]
     },
     "execution_count": 55,
     "metadata": {},
     "output_type": "execute_result"
    }
   ],
   "source": [
    "img_size"
   ]
  },
  {
   "cell_type": "code",
   "execution_count": 56,
   "metadata": {},
   "outputs": [],
   "source": [
    "# test_dog = cv2.imread('.\\\\data\\\\test\\\\1.jpg')\n",
    "\n",
    "# cv2.imshow('My Image', test_dog)\n",
    "\n",
    "# test_dog = cv2.resize(test_dog, (img_size, img_size), cv2.INTER_LINEAR) / 255\n",
    "\n",
    "# preview_dog = plt.imshow(test_dog.reshape(img_size, img_size, num_channels))"
   ]
  },
  {
   "cell_type": "code",
   "execution_count": 57,
   "metadata": {},
   "outputs": [],
   "source": [
    "def sample_prediction(test_im):\n",
    "    \n",
    "    feed_dict_test = {\n",
    "        x: test_im.reshape(1, img_size_flat),\n",
    "        y_true: np.array([[1, 0]])\n",
    "    }\n",
    "\n",
    "    score, test_pred = session.run([y_pred, y_pred_cls] , feed_dict=feed_dict_test)\n",
    "#     return classes[test_pred[0]]\n",
    "    return classes[test_pred[0]], score\n",
    "\n",
    "\n",
    "# np.set_printoptions(suppress=True)\n",
    "\n",
    "# print(score)\n",
    "\n",
    "# results = sample_prediction(test_cat)\n",
    "# print(\"Predicted class for test_cat: {}, score: {}\".format(results[0], results[1]))\n",
    "\n",
    "# results = sample_prediction(test_dog)\n",
    "# print(\"Predicted class for test_dog: {}, score: {}\".format(results[0], results[1]))"
   ]
  },
  {
   "cell_type": "code",
   "execution_count": 58,
   "metadata": {},
   "outputs": [
    {
     "name": "stdout",
     "output_type": "stream",
     "text": [
      "100\n",
      "[0.3503814  0.64961874]\n"
     ]
    }
   ],
   "source": [
    "\n",
    "\n",
    "totalscore = []\n",
    "\n",
    "for sample_index in test_dataset_A: # A: dogs\n",
    "    \n",
    "#     print(sample_index)\n",
    "    test_img = cv2.imread(sample_index)\n",
    "    # print(test_cat)\n",
    "#     cv2.imshow('My Image', test_cat)\n",
    "\n",
    "    test_img = cv2.resize(test_img, (img_size, img_size), cv2.INTER_LINEAR) / 255\n",
    "\n",
    "#     preview_cat = plt.imshow(test_cat.reshape(img_size, img_size, num_channels))\n",
    "\n",
    "    np.set_printoptions(suppress=True)\n",
    "\n",
    "    results = sample_prediction(test_img)\n",
    "#     print(\"Predicted class for test_cat: {}, score: {}\".format(results[0], results[1]))\n",
    "    \n",
    "#     print(len(results[1][0]))\n",
    "#     print(results[1][0][0])\n",
    "    totalscore.append(results[1][0])\n",
    "\n",
    "print(len(totalscore))\n",
    "# print(totalscore)\n",
    "print(sum(totalscore)/len(totalscore))"
   ]
  },
  {
   "cell_type": "code",
   "execution_count": null,
   "metadata": {},
   "outputs": [],
   "source": []
  },
  {
   "cell_type": "code",
   "execution_count": 59,
   "metadata": {},
   "outputs": [
    {
     "name": "stdout",
     "output_type": "stream",
     "text": [
      "400\n",
      "[0.00115917 0.99884087]\n"
     ]
    }
   ],
   "source": [
    "\n",
    "\n",
    "totalscore = []\n",
    "\n",
    "for sample_index in test_dataset_B: # A: dogs, B: cats\n",
    "       \n",
    "#     print(sample_index)\n",
    "    test_img = cv2.imread(sample_index)\n",
    "    # print(test_cat)\n",
    "#     cv2.imshow('My Image', test_cat)\n",
    "\n",
    "    test_img = cv2.resize(test_img, (img_size, img_size), cv2.INTER_LINEAR) / 255\n",
    "\n",
    "#     preview_cat = plt.imshow(test_cat.reshape(img_size, img_size, num_channels))\n",
    "\n",
    "    np.set_printoptions(suppress=True)\n",
    "\n",
    "    results = sample_prediction(test_img)\n",
    "#     print(\"Predicted class for test_cat: {}, score: {}\".format(results[0], results[1]))\n",
    "    \n",
    "#     print(len(results[1][0]))\n",
    "#     print(results[1][0][1])\n",
    "    totalscore.append(results[1][0])\n",
    "\n",
    "print(len(totalscore))\n",
    "# print(totalscore)\n",
    "print(sum(totalscore)/len(totalscore))"
   ]
  },
  {
   "cell_type": "code",
   "execution_count": null,
   "metadata": {},
   "outputs": [],
   "source": []
  },
  {
   "cell_type": "code",
   "execution_count": null,
   "metadata": {},
   "outputs": [],
   "source": []
  },
  {
   "cell_type": "code",
   "execution_count": null,
   "metadata": {},
   "outputs": [],
   "source": []
  },
  {
   "cell_type": "code",
   "execution_count": null,
   "metadata": {},
   "outputs": [],
   "source": []
  },
  {
   "cell_type": "markdown",
   "metadata": {},
   "source": [
    "# generated photo"
   ]
  },
  {
   "cell_type": "code",
   "execution_count": 60,
   "metadata": {},
   "outputs": [
    {
     "name": "stdout",
     "output_type": "stream",
     "text": [
      "1000\n",
      "[0.00002419 0.999976  ]\n"
     ]
    }
   ],
   "source": [
    "test_cases = ['case00','case01','case02','case03','case04',\n",
    "              'case04','case05','case06','case05','case09','case10']\n",
    "\n",
    "totalscore = []\n",
    "\n",
    "for select_cases in test_cases:\n",
    "\n",
    "    # prepare testing data\n",
    "    # D:\\GitHub\\analysis_generated_pictures\\category\\van\\pic_real\\case00\\cyclecoopnet\n",
    "    test_dataset_C = glob('D:\\\\GitHub\\\\analysis_generated_pictures\\\\category\\\\van\\\\pic_real\\\\{}\\\\cyclecoopnet\\\\*.png'.format(select_cases))\n",
    "   \n",
    "    for sample_index in test_dataset_C: \n",
    "\n",
    "    #     print(sample_index)\n",
    "        test_img = cv2.imread(sample_index)\n",
    "        # print(test_cat)\n",
    "    #     cv2.imshow('My Image', test_cat)\n",
    "\n",
    "        test_img = cv2.resize(test_img, (img_size, img_size), cv2.INTER_LINEAR) / 255\n",
    "\n",
    "    #     preview_cat = plt.imshow(test_cat.reshape(img_size, img_size, num_channels))\n",
    "\n",
    "        np.set_printoptions(suppress=True)\n",
    "\n",
    "        results = sample_prediction(test_img)\n",
    "    #     print(\"Predicted class for test_cat: {}, score: {}\".format(results[0], results[1]))\n",
    "\n",
    "    #     print(len(results[1][0]))\n",
    "    #     print(results[1][0][1])\n",
    "        totalscore.append(results[1][0])\n",
    "\n",
    "        \n",
    "        \n",
    "        \n",
    "        \n",
    "print(len(totalscore))\n",
    "# print(totalscore)\n",
    "print(sum(totalscore)/len(totalscore))\n",
    "\n",
    "# D:\\GitHub\\analysis_generated_pictures\\category\\bag_color(from_sk)\\case00\\cyclecoopnet"
   ]
  },
  {
   "cell_type": "code",
   "execution_count": 61,
   "metadata": {},
   "outputs": [
    {
     "name": "stdout",
     "output_type": "stream",
     "text": [
      "1000\n",
      "[0.0009621  0.99903786]\n"
     ]
    }
   ],
   "source": [
    "test_cases = ['case00','case01','case02','case03','case04',\n",
    "              'case04','case05','case06','case05','case09','case10']\n",
    "\n",
    "totalscore = []\n",
    "\n",
    "for select_cases in test_cases:\n",
    "\n",
    "    # prepare testing data\n",
    "    # D:\\GitHub\\analysis_generated_pictures\\category\\van\\pic_real\\case00\\cyclecoopnet\n",
    "    test_dataset_C = glob('D:\\\\GitHub\\\\analysis_generated_pictures\\\\category\\\\van\\\\pic_real\\\\{}\\\\cyclegan\\\\*.png'.format(select_cases))\n",
    "   \n",
    "    for sample_index in test_dataset_C: \n",
    "\n",
    "    #     print(sample_index)\n",
    "        test_img = cv2.imread(sample_index)\n",
    "        # print(test_cat)\n",
    "    #     cv2.imshow('My Image', test_cat)\n",
    "\n",
    "        test_img = cv2.resize(test_img, (img_size, img_size), cv2.INTER_LINEAR) / 255\n",
    "\n",
    "    #     preview_cat = plt.imshow(test_cat.reshape(img_size, img_size, num_channels))\n",
    "\n",
    "        np.set_printoptions(suppress=True)\n",
    "\n",
    "        results = sample_prediction(test_img)\n",
    "    #     print(\"Predicted class for test_cat: {}, score: {}\".format(results[0], results[1]))\n",
    "\n",
    "    #     print(len(results[1][0]))\n",
    "    #     print(results[1][0][1])\n",
    "        totalscore.append(results[1][0])\n",
    "\n",
    "        \n",
    "        \n",
    "        \n",
    "        \n",
    "print(len(totalscore))\n",
    "# print(totalscore)\n",
    "print(sum(totalscore)/len(totalscore))\n",
    "\n",
    "# D:\\GitHub\\analysis_generated_pictures\\category\\bag_color(from_sk)\\case00\\cyclecoopnet"
   ]
  },
  {
   "cell_type": "code",
   "execution_count": null,
   "metadata": {},
   "outputs": [],
   "source": []
  },
  {
   "cell_type": "code",
   "execution_count": null,
   "metadata": {},
   "outputs": [],
   "source": []
  },
  {
   "cell_type": "code",
   "execution_count": null,
   "metadata": {},
   "outputs": [],
   "source": []
  },
  {
   "cell_type": "markdown",
   "metadata": {},
   "source": [
    "# real_pic\n",
    "## cyclecoopnet"
   ]
  },
  {
   "cell_type": "code",
   "execution_count": 62,
   "metadata": {},
   "outputs": [
    {
     "name": "stdout",
     "output_type": "stream",
     "text": [
      "1000\n",
      "[0.5195104  0.48049012]\n"
     ]
    }
   ],
   "source": [
    "test_cases = ['case00','case01','case02','case03','case04',\n",
    "              'case04','case05','case06','case05','case09','case10']\n",
    "\n",
    "totalscore = []\n",
    "\n",
    "for select_cases in test_cases:\n",
    "\n",
    "    # prepare testing data\n",
    "    # D:\\GitHub\\analysis_generated_pictures\\category\\van\\pic_real\\case00\\cyclecoopnet\n",
    "    test_dataset_C = glob('D:\\\\GitHub\\\\analysis_generated_pictures\\\\category\\\\van\\\\real_pic\\\\{}\\\\cyclecoopnet\\\\*.png'.format(select_cases))\n",
    "   \n",
    "    for sample_index in test_dataset_C: \n",
    "\n",
    "    #     print(sample_index)\n",
    "        test_img = cv2.imread(sample_index)\n",
    "        # print(test_cat)\n",
    "    #     cv2.imshow('My Image', test_cat)\n",
    "\n",
    "        test_img = cv2.resize(test_img, (img_size, img_size), cv2.INTER_LINEAR) / 255\n",
    "\n",
    "    #     preview_cat = plt.imshow(test_cat.reshape(img_size, img_size, num_channels))\n",
    "\n",
    "        np.set_printoptions(suppress=True)\n",
    "\n",
    "        results = sample_prediction(test_img)\n",
    "    #     print(\"Predicted class for test_cat: {}, score: {}\".format(results[0], results[1]))\n",
    "\n",
    "    #     print(len(results[1][0]))\n",
    "    #     print(results[1][0][1])\n",
    "        totalscore.append(results[1][0])\n",
    "        \n",
    "        \n",
    "print(len(totalscore))\n",
    "# print(totalscore)\n",
    "print(sum(totalscore)/len(totalscore))\n",
    "\n",
    "# D:\\GitHub\\analysis_generated_pictures\\category\\bag_color(from_sk)\\case00\\cyclecoopnet"
   ]
  },
  {
   "cell_type": "markdown",
   "metadata": {},
   "source": [
    "# cyclegan"
   ]
  },
  {
   "cell_type": "code",
   "execution_count": 63,
   "metadata": {},
   "outputs": [
    {
     "name": "stdout",
     "output_type": "stream",
     "text": [
      "1000\n",
      "[0.50668526 0.4933146 ]\n"
     ]
    }
   ],
   "source": [
    "test_cases = ['case00','case01','case02','case03','case04',\n",
    "              'case04','case05','case06','case05','case09','case10']\n",
    "\n",
    "totalscore = []\n",
    "\n",
    "for select_cases in test_cases:\n",
    "\n",
    "    # prepare testing data\n",
    "    # D:\\GitHub\\analysis_generated_pictures\\category\\van\\pic_real\\case00\\cyclecoopnet\n",
    "    test_dataset_C = glob('D:\\\\GitHub\\\\analysis_generated_pictures\\\\category\\\\van\\\\real_pic\\\\{}\\\\cyclegan\\\\*.png'.format(select_cases))\n",
    "   \n",
    "    for sample_index in test_dataset_C: \n",
    "\n",
    "    #     print(sample_index)\n",
    "        test_img = cv2.imread(sample_index)\n",
    "        # print(test_cat)\n",
    "    #     cv2.imshow('My Image', test_cat)\n",
    "\n",
    "        test_img = cv2.resize(test_img, (img_size, img_size), cv2.INTER_LINEAR) / 255\n",
    "\n",
    "    #     preview_cat = plt.imshow(test_cat.reshape(img_size, img_size, num_channels))\n",
    "\n",
    "        np.set_printoptions(suppress=True)\n",
    "\n",
    "        results = sample_prediction(test_img)\n",
    "    #     print(\"Predicted class for test_cat: {}, score: {}\".format(results[0], results[1]))\n",
    "\n",
    "    #     print(len(results[1][0]))\n",
    "    #     print(results[1][0][1])\n",
    "        totalscore.append(results[1][0])\n",
    "\n",
    "        \n",
    "        \n",
    "        \n",
    "        \n",
    "print(len(totalscore))\n",
    "# print(totalscore)\n",
    "print(sum(totalscore)/len(totalscore))\n",
    "\n",
    "# D:\\GitHub\\analysis_generated_pictures\\category\\bag_color(from_sk)\\case00\\cyclecoopnet"
   ]
  },
  {
   "cell_type": "code",
   "execution_count": null,
   "metadata": {},
   "outputs": [],
   "source": []
  },
  {
   "cell_type": "code",
   "execution_count": null,
   "metadata": {},
   "outputs": [],
   "source": []
  },
  {
   "cell_type": "code",
   "execution_count": null,
   "metadata": {},
   "outputs": [],
   "source": []
  },
  {
   "cell_type": "code",
   "execution_count": null,
   "metadata": {},
   "outputs": [],
   "source": []
  },
  {
   "cell_type": "markdown",
   "metadata": {},
   "source": [
    "# real_pic"
   ]
  },
  {
   "cell_type": "code",
   "execution_count": 64,
   "metadata": {},
   "outputs": [
    {
     "name": "stdout",
     "output_type": "stream",
     "text": [
      "test_category: real_pic\n",
      "cyclecoopnet:\n",
      "1000\n",
      "0.519510010108714\n",
      "cyclegan:\n",
      "1000\n",
      "0.506685354400066\n"
     ]
    }
   ],
   "source": [
    "test_cases = ['case00','case01','case02','case03','case04',\n",
    "              'case04','case05','case06','case05','case09','case10']\n",
    "\n",
    "real_pic_coopnet_list = []\n",
    "\n",
    "test_category = \"real_pic\"\n",
    "print(\"test_category: {}\".format(test_category))\n",
    "\n",
    "for select_cases in test_cases:\n",
    "\n",
    "    # prepare testing data\n",
    "    # D:\\GitHub\\analysis_generated_pictures\\category\\van\\pic_real\\case00\\cyclecoopnet\n",
    "    test_dataset_C = glob('D:\\\\GitHub\\\\analysis_generated_pictures\\\\category\\\\van\\\\{}\\\\{}\\\\cyclecoopnet\\\\*.png'.format(test_category, select_cases))\n",
    "   \n",
    "    for sample_index in test_dataset_C: \n",
    "\n",
    "    #     print(sample_index)\n",
    "        test_img = cv2.imread(sample_index)\n",
    "        # print(test_cat)\n",
    "    #     cv2.imshow('My Image', test_cat)\n",
    "\n",
    "        test_img = cv2.resize(test_img, (img_size, img_size), cv2.INTER_LINEAR) / 255\n",
    "\n",
    "    #     preview_cat = plt.imshow(test_cat.reshape(img_size, img_size, num_channels))\n",
    "\n",
    "        np.set_printoptions(suppress=True)\n",
    "\n",
    "        results = sample_prediction(test_img)\n",
    "    #     print(\"Predicted class for test_cat: {}, score: {}\".format(results[0], results[1]))\n",
    "\n",
    "    #     print(len(results[1][0]))\n",
    "    #     print(results[1][0][1])\n",
    "        real_pic_coopnet_list.append(results[1][0][0])\n",
    "\n",
    "        \n",
    "        \n",
    "        \n",
    "print(\"cyclecoopnet:\")        \n",
    "print(len(real_pic_coopnet_list))\n",
    "# print(totalscore)\n",
    "print(sum(real_pic_coopnet_list)/len(real_pic_coopnet_list))\n",
    "\n",
    "# D:\\GitHub\\analysis_generated_pictures\\category\\bag_color(from_sk)\\case00\\cyclecoopnet\n",
    "\n",
    "real_pic_cyclegan_list = []\n",
    "\n",
    "for select_cases in test_cases:\n",
    "\n",
    "    # prepare testing data\n",
    "    # D:\\GitHub\\analysis_generated_pictures\\category\\van\\pic_real\\case00\\cyclecoopnet\n",
    "    test_dataset_C = glob('D:\\\\GitHub\\\\analysis_generated_pictures\\\\category\\\\van\\\\{}\\\\{}\\\\cyclegan\\\\*.png'.format(test_category, select_cases))\n",
    "   \n",
    "    for sample_index in test_dataset_C: \n",
    "\n",
    "    #     print(sample_index)\n",
    "        test_img = cv2.imread(sample_index)\n",
    "        # print(test_cat)\n",
    "    #     cv2.imshow('My Image', test_cat)\n",
    "\n",
    "        test_img = cv2.resize(test_img, (img_size, img_size), cv2.INTER_LINEAR) / 255\n",
    "\n",
    "    #     preview_cat = plt.imshow(test_cat.reshape(img_size, img_size, num_channels))\n",
    "\n",
    "        np.set_printoptions(suppress=True)\n",
    "\n",
    "        results = sample_prediction(test_img)\n",
    "    #     print(\"Predicted class for test_cat: {}, score: {}\".format(results[0], results[1]))\n",
    "\n",
    "    #     print(len(results[1][0]))\n",
    "    #     print(results[1][0][1])\n",
    "        real_pic_cyclegan_list.append(results[1][0][0])\n",
    "\n",
    "        \n",
    "        \n",
    "        \n",
    "print(\"cyclegan:\")        \n",
    "print(len(real_pic_cyclegan_list))\n",
    "# print(totalscore)\n",
    "print(sum(real_pic_cyclegan_list)/len(real_pic_cyclegan_list))\n",
    "\n",
    "# D:\\GitHub\\analysis_generated_pictures\\category\\bag_color(from_sk)\\case00\\cyclecoopnet"
   ]
  },
  {
   "cell_type": "markdown",
   "metadata": {},
   "source": [
    "# pic_real"
   ]
  },
  {
   "cell_type": "code",
   "execution_count": 65,
   "metadata": {},
   "outputs": [
    {
     "name": "stdout",
     "output_type": "stream",
     "text": [
      "test_category: pic_real\n",
      "cyclecoopnet:\n",
      "1000\n",
      "0.9999758155941963\n",
      "cyclegan:\n",
      "1000\n",
      "0.9990378999710083\n"
     ]
    }
   ],
   "source": [
    "test_cases = ['case00','case01','case02','case03','case04',\n",
    "              'case04','case05','case06','case05','case09','case10']\n",
    "\n",
    "pic_real_coopnet_list = []\n",
    "\n",
    "test_category = \"pic_real\"\n",
    "print(\"test_category: {}\".format(test_category))\n",
    "\n",
    "for select_cases in test_cases:\n",
    "\n",
    "    # prepare testing data\n",
    "    # D:\\GitHub\\analysis_generated_pictures\\category\\van\\pic_real\\case00\\cyclecoopnet\n",
    "    test_dataset_C = glob('D:\\\\GitHub\\\\analysis_generated_pictures\\\\category\\\\van\\\\{}\\\\{}\\\\cyclecoopnet\\\\*.png'.format(test_category, select_cases))\n",
    "   \n",
    "    for sample_index in test_dataset_C: \n",
    "\n",
    "    #     print(sample_index)\n",
    "        test_img = cv2.imread(sample_index)\n",
    "        # print(test_cat)\n",
    "    #     cv2.imshow('My Image', test_cat)\n",
    "\n",
    "        test_img = cv2.resize(test_img, (img_size, img_size), cv2.INTER_LINEAR) / 255\n",
    "\n",
    "    #     preview_cat = plt.imshow(test_cat.reshape(img_size, img_size, num_channels))\n",
    "\n",
    "        np.set_printoptions(suppress=True)\n",
    "\n",
    "        results = sample_prediction(test_img)\n",
    "    #     print(\"Predicted class for test_cat: {}, score: {}\".format(results[0], results[1]))\n",
    "\n",
    "    #     print(len(results[1][0]))\n",
    "    #     print(results[1][0][1])\n",
    "        pic_real_coopnet_list.append(results[1][0][1])\n",
    "\n",
    "        \n",
    "        \n",
    "        \n",
    "print(\"cyclecoopnet:\")           \n",
    "print(len(pic_real_coopnet_list))\n",
    "# print(totalscore)\n",
    "print(sum(pic_real_coopnet_list)/len(pic_real_coopnet_list))\n",
    "\n",
    "# D:\\GitHub\\analysis_generated_pictures\\category\\bag_color(from_sk)\\case00\\cyclecoopnet\n",
    "\n",
    "pic_real_cyclegan_list = []\n",
    "\n",
    "for select_cases in test_cases:\n",
    "\n",
    "    # prepare testing data\n",
    "    # D:\\GitHub\\analysis_generated_pictures\\category\\van\\pic_real\\case00\\cyclecoopnet\n",
    "    test_dataset_C = glob('D:\\\\GitHub\\\\analysis_generated_pictures\\\\category\\\\van\\\\{}\\\\{}\\\\cyclegan\\\\*.png'.format(test_category, select_cases))\n",
    "   \n",
    "    for sample_index in test_dataset_C: \n",
    "\n",
    "    #     print(sample_index)\n",
    "        test_img = cv2.imread(sample_index)\n",
    "        # print(test_cat)\n",
    "    #     cv2.imshow('My Image', test_cat)\n",
    "\n",
    "        test_img = cv2.resize(test_img, (img_size, img_size), cv2.INTER_LINEAR) / 255\n",
    "\n",
    "    #     preview_cat = plt.imshow(test_cat.reshape(img_size, img_size, num_channels))\n",
    "\n",
    "        np.set_printoptions(suppress=True)\n",
    "\n",
    "        results = sample_prediction(test_img)\n",
    "    #     print(\"Predicted class for test_cat: {}, score: {}\".format(results[0], results[1]))\n",
    "\n",
    "    #     print(len(results[1][0]))\n",
    "    #     print(results[1][0][1])\n",
    "        pic_real_cyclegan_list.append(results[1][0][1])\n",
    "\n",
    "        \n",
    "        \n",
    "        \n",
    "print(\"cyclegan:\")        \n",
    "print(len(pic_real_cyclegan_list))\n",
    "# print(totalscore)\n",
    "print(sum(pic_real_cyclegan_list)/len(pic_real_cyclegan_list))\n",
    "\n",
    "# D:\\GitHub\\analysis_generated_pictures\\category\\bag_color(from_sk)\\case00\\cyclecoopnet"
   ]
  },
  {
   "cell_type": "markdown",
   "metadata": {},
   "source": [
    "# recover_pic_real_pic"
   ]
  },
  {
   "cell_type": "code",
   "execution_count": 66,
   "metadata": {},
   "outputs": [
    {
     "name": "stdout",
     "output_type": "stream",
     "text": [
      "test_category: recover_pic_real_pic\n",
      "cyclecoopnet:\n",
      "1000\n",
      "0.44047756728621906\n",
      "cyclegan:\n",
      "1000\n",
      "0.9349271682500839\n"
     ]
    }
   ],
   "source": [
    "test_cases = ['case00','case01','case02','case03','case04',\n",
    "              'case04','case05','case06','case05','case09','case10']\n",
    "\n",
    "recover_pic_real_pic_coopnet_list = []\n",
    "\n",
    "test_category = \"recover_pic_real_pic\"\n",
    "print(\"test_category: {}\".format(test_category))\n",
    "\n",
    "for select_cases in test_cases:\n",
    "\n",
    "    # prepare testing data\n",
    "    # D:\\GitHub\\analysis_generated_pictures\\category\\van\\pic_real\\case00\\cyclecoopnet\n",
    "    test_dataset_C = glob('D:\\\\GitHub\\\\analysis_generated_pictures\\\\category\\\\van\\\\{}\\\\{}\\\\cyclecoopnet\\\\*.png'.format(test_category, select_cases))\n",
    "   \n",
    "    for sample_index in test_dataset_C: \n",
    "\n",
    "    #     print(sample_index)\n",
    "        test_img = cv2.imread(sample_index)\n",
    "        # print(test_cat)\n",
    "    #     cv2.imshow('My Image', test_cat)\n",
    "\n",
    "        test_img = cv2.resize(test_img, (img_size, img_size), cv2.INTER_LINEAR) / 255\n",
    "\n",
    "    #     preview_cat = plt.imshow(test_cat.reshape(img_size, img_size, num_channels))\n",
    "\n",
    "        np.set_printoptions(suppress=True)\n",
    "\n",
    "        results = sample_prediction(test_img)\n",
    "    #     print(\"Predicted class for test_cat: {}, score: {}\".format(results[0], results[1]))\n",
    "\n",
    "    #     print(len(results[1][0]))\n",
    "    #     print(results[1][0][1])\n",
    "        recover_pic_real_pic_coopnet_list.append(results[1][0][0])\n",
    "\n",
    "        \n",
    "        \n",
    "        \n",
    "print(\"cyclecoopnet:\")           \n",
    "print(len(recover_pic_real_pic_coopnet_list))\n",
    "# print(totalscore)\n",
    "print(sum(recover_pic_real_pic_coopnet_list)/len(recover_pic_real_pic_coopnet_list))\n",
    "\n",
    "# D:\\GitHub\\analysis_generated_pictures\\category\\bag_color(from_sk)\\case00\\cyclecoopnet\n",
    "\n",
    "recover_pic_real_pic_cyclegan_list = []\n",
    "\n",
    "for select_cases in test_cases:\n",
    "\n",
    "    # prepare testing data\n",
    "    # D:\\GitHub\\analysis_generated_pictures\\category\\van\\pic_real\\case00\\cyclecoopnet\n",
    "    test_dataset_C = glob('D:\\\\GitHub\\\\analysis_generated_pictures\\\\category\\\\van\\\\{}\\\\{}\\\\cyclegan\\\\*.png'.format(test_category, select_cases))\n",
    "   \n",
    "    for sample_index in test_dataset_C: \n",
    "\n",
    "    #     print(sample_index)\n",
    "        test_img = cv2.imread(sample_index)\n",
    "        # print(test_cat)\n",
    "    #     cv2.imshow('My Image', test_cat)\n",
    "\n",
    "        test_img = cv2.resize(test_img, (img_size, img_size), cv2.INTER_LINEAR) / 255\n",
    "\n",
    "    #     preview_cat = plt.imshow(test_cat.reshape(img_size, img_size, num_channels))\n",
    "\n",
    "        np.set_printoptions(suppress=True)\n",
    "\n",
    "        results = sample_prediction(test_img)\n",
    "    #     print(\"Predicted class for test_cat: {}, score: {}\".format(results[0], results[1]))\n",
    "\n",
    "    #     print(len(results[1][0]))\n",
    "    #     print(results[1][0][1])\n",
    "        recover_pic_real_pic_cyclegan_list.append(results[1][0][0])\n",
    "\n",
    "        \n",
    "        \n",
    "        \n",
    "print(\"cyclegan:\")        \n",
    "print(len(recover_pic_real_pic_cyclegan_list))\n",
    "# print(totalscore)\n",
    "print(sum(recover_pic_real_pic_cyclegan_list)/len(recover_pic_real_pic_cyclegan_list))\n",
    "\n",
    "# D:\\GitHub\\analysis_generated_pictures\\category\\bag_color(from_sk)\\case00\\cyclecoopnet"
   ]
  },
  {
   "cell_type": "markdown",
   "metadata": {},
   "source": [
    "# recover_real_pic_real"
   ]
  },
  {
   "cell_type": "code",
   "execution_count": 67,
   "metadata": {},
   "outputs": [
    {
     "name": "stdout",
     "output_type": "stream",
     "text": [
      "test_category: recover_real_pic_real\n",
      "cyclecoopnet:\n",
      "1000\n",
      "0.9995930906534195\n",
      "cyclegan:\n",
      "1000\n",
      "0.9994982858300209\n"
     ]
    }
   ],
   "source": [
    "test_cases = ['case00','case01','case02','case03','case04',\n",
    "              'case04','case05','case06','case05','case09','case10']\n",
    "\n",
    "recover_real_pic_real_coopnet_list = []\n",
    "\n",
    "test_category = \"recover_real_pic_real\"\n",
    "print(\"test_category: {}\".format(test_category))\n",
    "\n",
    "for select_cases in test_cases:\n",
    "\n",
    "    # prepare testing data\n",
    "    # D:\\GitHub\\analysis_generated_pictures\\category\\van\\pic_real\\case00\\cyclecoopnet\n",
    "    test_dataset_C = glob('D:\\\\GitHub\\\\analysis_generated_pictures\\\\category\\\\van\\\\{}\\\\{}\\\\cyclecoopnet\\\\*.png'.format(test_category, select_cases))\n",
    "   \n",
    "    for sample_index in test_dataset_C: \n",
    "\n",
    "    #     print(sample_index)\n",
    "        test_img = cv2.imread(sample_index)\n",
    "        # print(test_cat)\n",
    "    #     cv2.imshow('My Image', test_cat)\n",
    "\n",
    "        test_img = cv2.resize(test_img, (img_size, img_size), cv2.INTER_LINEAR) / 255\n",
    "\n",
    "    #     preview_cat = plt.imshow(test_cat.reshape(img_size, img_size, num_channels))\n",
    "\n",
    "        np.set_printoptions(suppress=True)\n",
    "\n",
    "        results = sample_prediction(test_img)\n",
    "    #     print(\"Predicted class for test_cat: {}, score: {}\".format(results[0], results[1]))\n",
    "\n",
    "    #     print(len(results[1][0]))\n",
    "    #     print(results[1][0][1])\n",
    "        recover_real_pic_real_coopnet_list.append(results[1][0][1])\n",
    "\n",
    "        \n",
    "        \n",
    "        \n",
    "print(\"cyclecoopnet:\")          \n",
    "print(len(recover_real_pic_real_coopnet_list))\n",
    "# print(totalscore)\n",
    "print(sum(recover_real_pic_real_coopnet_list)/len(recover_real_pic_real_coopnet_list))\n",
    "\n",
    "# D:\\GitHub\\analysis_generated_pictures\\category\\bag_color(from_sk)\\case00\\cyclecoopnet\n",
    "\n",
    "recover_real_pic_real_cyclegan_list = []\n",
    "\n",
    "for select_cases in test_cases:\n",
    "\n",
    "    # prepare testing data\n",
    "    # D:\\GitHub\\analysis_generated_pictures\\category\\van\\pic_real\\case00\\cyclecoopnet\n",
    "    test_dataset_C = glob('D:\\\\GitHub\\\\analysis_generated_pictures\\\\category\\\\van\\\\{}\\\\{}\\\\cyclegan\\\\*.png'.format(test_category, select_cases))\n",
    "   \n",
    "    for sample_index in test_dataset_C: \n",
    "\n",
    "    #     print(sample_index)\n",
    "        test_img = cv2.imread(sample_index)\n",
    "        # print(test_cat)\n",
    "    #     cv2.imshow('My Image', test_cat)\n",
    "\n",
    "        test_img = cv2.resize(test_img, (img_size, img_size), cv2.INTER_LINEAR) / 255\n",
    "\n",
    "    #     preview_cat = plt.imshow(test_cat.reshape(img_size, img_size, num_channels))\n",
    "\n",
    "        np.set_printoptions(suppress=True)\n",
    "\n",
    "        results = sample_prediction(test_img)\n",
    "    #     print(\"Predicted class for test_cat: {}, score: {}\".format(results[0], results[1]))\n",
    "\n",
    "    #     print(len(results[1][0]))\n",
    "    #     print(results[1][0][1])\n",
    "        recover_real_pic_real_cyclegan_list.append(results[1][0][1])\n",
    "\n",
    "        \"\"\n",
    "        \n",
    "        \n",
    "print(\"cyclegan:\")          \n",
    "print(len(recover_real_pic_real_cyclegan_list))\n",
    "# print(totalscore)\n",
    "print(sum(recover_real_pic_real_cyclegan_list)/len(recover_real_pic_real_cyclegan_list))\n",
    "\n",
    "# D:\\GitHub\\analysis_generated_pictures\\category\\bag_color(from_sk)\\case00\\cyclecoopnet"
   ]
  },
  {
   "cell_type": "markdown",
   "metadata": {},
   "source": [
    "# boxplot"
   ]
  },
  {
   "cell_type": "code",
   "execution_count": 76,
   "metadata": {},
   "outputs": [
    {
     "data": {
      "text/plain": [
       "[0.0015768748,\n",
       " 0.013555383,\n",
       " 0.0051335143,\n",
       " 0.011292035,\n",
       " 0.017885279,\n",
       " 0.0039674635,\n",
       " 0.00057541294,\n",
       " 0.002181707,\n",
       " 0.009382547,\n",
       " 0.012077112,\n",
       " 0.050918646,\n",
       " 0.00037694286,\n",
       " 0.0052327225,\n",
       " 0.0007041791,\n",
       " 0.00037429624,\n",
       " 0.00019663003,\n",
       " 0.0068538324,\n",
       " 0.0013963127,\n",
       " 0.3230359,\n",
       " 0.0011473037,\n",
       " 0.00015267034,\n",
       " 0.013359251,\n",
       " 0.019016022,\n",
       " 0.14220366,\n",
       " 0.007941254,\n",
       " 0.0245153,\n",
       " 0.3913284,\n",
       " 0.008329569,\n",
       " 0.007743064,\n",
       " 0.022906087,\n",
       " 0.058809947,\n",
       " 0.0055781314,\n",
       " 0.00024187766,\n",
       " 0.0023601996,\n",
       " 0.003599751,\n",
       " 0.008140394,\n",
       " 0.0005100687,\n",
       " 0.00045143775,\n",
       " 0.0006504296,\n",
       " 0.0024227547,\n",
       " 4.3672397e-05,\n",
       " 2.8416383e-05,\n",
       " 0.0040484387,\n",
       " 0.10876391,\n",
       " 0.013705467,\n",
       " 0.14846037,\n",
       " 0.020283822,\n",
       " 0.00023437859,\n",
       " 0.13531853,\n",
       " 0.03258461,\n",
       " 0.002221176,\n",
       " 0.0003938918,\n",
       " 0.04548377,\n",
       " 0.2342745,\n",
       " 0.0052322284,\n",
       " 0.4497057,\n",
       " 0.060439833,\n",
       " 0.0056799958,\n",
       " 0.00033248824,\n",
       " 0.023972064,\n",
       " 0.09817974,\n",
       " 2.8753273e-06,\n",
       " 0.0053091347,\n",
       " 0.05484342,\n",
       " 0.0019321498,\n",
       " 0.006776263,\n",
       " 0.0028617557,\n",
       " 8.060056e-05,\n",
       " 0.0015871042,\n",
       " 0.009726097,\n",
       " 0.00014316278,\n",
       " 0.0038348602,\n",
       " 0.013099184,\n",
       " 0.0005949674,\n",
       " 9.311893e-05,\n",
       " 0.0048696767,\n",
       " 0.037744172,\n",
       " 0.00030694666,\n",
       " 0.0011999586,\n",
       " 0.0043692803,\n",
       " 0.0025063038,\n",
       " 0.0019092916,\n",
       " 0.0015025851,\n",
       " 8.313915e-05,\n",
       " 0.0036490888,\n",
       " 0.00013689554,\n",
       " 0.0013123257,\n",
       " 0.00021320749,\n",
       " 0.0027956138,\n",
       " 0.00032156348,\n",
       " 0.054034594,\n",
       " 0.058989696,\n",
       " 1.2536354e-05,\n",
       " 0.00023491308,\n",
       " 0.0019639493,\n",
       " 0.0022668713,\n",
       " 0.0020330844,\n",
       " 0.00091449695,\n",
       " 0.020619625,\n",
       " 0.0014358686,\n",
       " 1.0,\n",
       " 0.99999154,\n",
       " 0.9999999,\n",
       " 1.0,\n",
       " 0.9999994,\n",
       " 1.0,\n",
       " 0.99999964,\n",
       " 0.9999988,\n",
       " 1.0,\n",
       " 0.99999976,\n",
       " 1.0,\n",
       " 0.9999988,\n",
       " 1.0,\n",
       " 0.99999964,\n",
       " 0.9999989,\n",
       " 0.99999225,\n",
       " 0.99999547,\n",
       " 0.9999968,\n",
       " 0.9999999,\n",
       " 1.0,\n",
       " 1.0,\n",
       " 0.9999999,\n",
       " 1.0,\n",
       " 0.9999999,\n",
       " 1.0,\n",
       " 0.999998,\n",
       " 0.9999994,\n",
       " 1.0,\n",
       " 0.9999988,\n",
       " 0.9999974,\n",
       " 1.0,\n",
       " 0.9999999,\n",
       " 0.9999994,\n",
       " 0.9999974,\n",
       " 0.99999964,\n",
       " 0.9999999,\n",
       " 1.0,\n",
       " 0.9999999,\n",
       " 1.0,\n",
       " 1.0,\n",
       " 0.99999917,\n",
       " 0.9999945,\n",
       " 0.99999964,\n",
       " 0.9999999,\n",
       " 0.9999999,\n",
       " 1.0,\n",
       " 1.0,\n",
       " 1.0,\n",
       " 0.99999976,\n",
       " 1.0,\n",
       " 0.99999976,\n",
       " 0.99999964,\n",
       " 0.9999999,\n",
       " 0.9999995,\n",
       " 0.9999995,\n",
       " 1.0,\n",
       " 1.0,\n",
       " 0.99999976,\n",
       " 0.9999993,\n",
       " 1.0,\n",
       " 0.99999976,\n",
       " 0.99999964,\n",
       " 0.99999976,\n",
       " 0.9999995,\n",
       " 0.9999982,\n",
       " 0.9999999,\n",
       " 0.9999995,\n",
       " 0.9999945,\n",
       " 0.9999999,\n",
       " 0.99999917,\n",
       " 1.0,\n",
       " 1.0,\n",
       " 0.99999297,\n",
       " 1.0,\n",
       " 0.99999917,\n",
       " 1.0,\n",
       " 0.9999989,\n",
       " 0.99999964,\n",
       " 1.0,\n",
       " 1.0,\n",
       " 1.0,\n",
       " 1.0,\n",
       " 1.0,\n",
       " 1.0,\n",
       " 1.0,\n",
       " 0.9999999,\n",
       " 0.9999999,\n",
       " 0.99884075,\n",
       " 0.9999713,\n",
       " 0.99999976,\n",
       " 1.0,\n",
       " 1.0,\n",
       " 0.9999988,\n",
       " 0.9999999,\n",
       " 0.9999999,\n",
       " 0.9999999,\n",
       " 1.0,\n",
       " 1.0,\n",
       " 0.9999999,\n",
       " 1.0,\n",
       " 0.99975747,\n",
       " 0.9999031,\n",
       " 0.96236473,\n",
       " 0.989947,\n",
       " 0.99867946,\n",
       " 0.95215315,\n",
       " 0.99995625,\n",
       " 0.9999254,\n",
       " 0.9996904,\n",
       " 0.9999069,\n",
       " 0.99991,\n",
       " 0.999948,\n",
       " 0.41556704,\n",
       " 0.9999894,\n",
       " 0.75691795,\n",
       " 0.9998909,\n",
       " 0.22674747,\n",
       " 0.9999958,\n",
       " 0.99901927,\n",
       " 0.99664366,\n",
       " 0.9473359,\n",
       " 0.9169395,\n",
       " 0.99990463,\n",
       " 0.99964595,\n",
       " 0.9971547,\n",
       " 0.9985135,\n",
       " 0.9879474,\n",
       " 0.9993338,\n",
       " 0.999972,\n",
       " 0.99995315,\n",
       " 0.9943327,\n",
       " 0.9996394,\n",
       " 0.99765164,\n",
       " 0.77989125,\n",
       " 0.83852935,\n",
       " 0.6886532,\n",
       " 0.9998666,\n",
       " 0.9692188,\n",
       " 0.8440941,\n",
       " 0.99260205,\n",
       " 0.9994603,\n",
       " 0.97599834,\n",
       " 0.99999726,\n",
       " 0.6397466,\n",
       " 0.9569984,\n",
       " 0.99926466,\n",
       " 0.9996306,\n",
       " 0.99958414,\n",
       " 0.9998568,\n",
       " 0.6836463,\n",
       " 0.9987614,\n",
       " 0.9994547,\n",
       " 0.9948331,\n",
       " 0.99999285,\n",
       " 0.9986878,\n",
       " 0.9997793,\n",
       " 0.9797203,\n",
       " 0.99987125,\n",
       " 0.9998963,\n",
       " 0.9999989,\n",
       " 0.99832577,\n",
       " 0.99176747,\n",
       " 0.9459528,\n",
       " 0.9992242,\n",
       " 0.88364106,\n",
       " 0.9963212,\n",
       " 0.97736245,\n",
       " 0.9460349,\n",
       " 0.99091107,\n",
       " 0.9999448,\n",
       " 0.99992144,\n",
       " 0.99633163,\n",
       " 0.9999479,\n",
       " 0.9999708,\n",
       " 0.99660313,\n",
       " 0.9996395,\n",
       " 0.9989278,\n",
       " 0.9977344,\n",
       " 0.9376713,\n",
       " 0.9999695,\n",
       " 0.9882032,\n",
       " 0.8924979,\n",
       " 0.9970035,\n",
       " 0.99916375,\n",
       " 0.99994147,\n",
       " 0.9973707,\n",
       " 0.9999372,\n",
       " 0.8187755,\n",
       " 0.99974483,\n",
       " 0.99998486,\n",
       " 0.99998975,\n",
       " 0.9970324,\n",
       " 0.99997497,\n",
       " 0.9990545,\n",
       " 0.9996934,\n",
       " 0.99770397,\n",
       " 0.99997723,\n",
       " 0.9998553,\n",
       " 0.99988484,\n",
       " 0.9997168,\n",
       " 0.9997918,\n",
       " 0.99752384,\n",
       " 0.9949536,\n",
       " 0.9996846,\n",
       " 0.9954293,\n",
       " 0.9875507,\n",
       " 0.9998696,\n",
       " 0.9998022,\n",
       " 0.9994867,\n",
       " 0.9980514,\n",
       " 0.9999956,\n",
       " 0.9997992,\n",
       " 0.99758375,\n",
       " 0.9959787,\n",
       " 0.9161006,\n",
       " 0.99276733,\n",
       " 0.9965749,\n",
       " 0.99757355,\n",
       " 0.9999355,\n",
       " 0.97452956,\n",
       " 0.9922168,\n",
       " 0.99616385,\n",
       " 0.95261526,\n",
       " 0.9958605,\n",
       " 0.99270105,\n",
       " 0.94315505,\n",
       " 0.99993837,\n",
       " 0.99925727,\n",
       " 0.9998889,\n",
       " 0.9955159,\n",
       " 0.9998442,\n",
       " 0.99949753,\n",
       " 0.993048,\n",
       " 0.9620383,\n",
       " 0.9993267,\n",
       " 0.99992466,\n",
       " 0.9999485,\n",
       " 0.99240315,\n",
       " 0.9999877,\n",
       " 0.99997115,\n",
       " 0.8201002,\n",
       " 0.9988135,\n",
       " 0.99990165,\n",
       " 0.998963,\n",
       " 0.9997631,\n",
       " 0.9981817,\n",
       " 0.9999449,\n",
       " 0.99990666,\n",
       " 0.9999311,\n",
       " 0.9976987,\n",
       " 0.99837554,\n",
       " 0.9958645,\n",
       " 0.9937145,\n",
       " 0.99999607,\n",
       " 0.9981869,\n",
       " 0.99390996,\n",
       " 0.99961334,\n",
       " 0.9989503,\n",
       " 0.999479,\n",
       " 0.9999852,\n",
       " 0.99926144,\n",
       " 0.9890961,\n",
       " 0.99986386,\n",
       " 0.9971486,\n",
       " 0.9744883,\n",
       " 0.9820097,\n",
       " 0.99622667,\n",
       " 0.9999883,\n",
       " 0.9959645,\n",
       " 0.98385555,\n",
       " 0.99962866,\n",
       " 0.99981767,\n",
       " 0.8857667,\n",
       " 0.9997619,\n",
       " 0.95704365,\n",
       " 0.99999154,\n",
       " 0.99998796,\n",
       " 0.99888116,\n",
       " 0.9983582,\n",
       " 0.9994117,\n",
       " 0.9943619,\n",
       " 0.9994023,\n",
       " 0.99991167,\n",
       " 0.9974809,\n",
       " 0.9998223,\n",
       " 0.9999852,\n",
       " 0.99387735,\n",
       " 0.7622712,\n",
       " 0.9953707,\n",
       " 0.9992293,\n",
       " 0.9956434,\n",
       " 0.9999604,\n",
       " 0.9996884,\n",
       " 0.9993554,\n",
       " 0.9999361,\n",
       " 0.9991124,\n",
       " 0.99994826,\n",
       " 0.9972038,\n",
       " 0.9998714,\n",
       " 0.99871814,\n",
       " 5.472375e-05,\n",
       " 0.0056748213,\n",
       " 4.4692425e-07,\n",
       " 8.880624e-06,\n",
       " 2.033213e-06,\n",
       " 5.669935e-07,\n",
       " 9.462615e-06,\n",
       " 3.246441e-05,\n",
       " 2.8651752e-07,\n",
       " 5.8264334e-07,\n",
       " 4.3464195e-05,\n",
       " 2.6565262e-06,\n",
       " 1.2348735e-06,\n",
       " 4.812196e-06,\n",
       " 2.361107e-08,\n",
       " 3.895046e-06,\n",
       " 1.0275031e-06,\n",
       " 0.00020615595,\n",
       " 2.4119495e-06,\n",
       " 6.0687507e-05,\n",
       " 4.306152e-07,\n",
       " 3.299751e-06,\n",
       " 9.978488e-07,\n",
       " 1.9184108e-05,\n",
       " 2.4204814e-05,\n",
       " 2.494612e-06,\n",
       " 6.016546e-07,\n",
       " 6.3994416e-06,\n",
       " 2.9961263e-06,\n",
       " 9.288756e-06,\n",
       " 0.00012562156,\n",
       " 0.00022006057,\n",
       " 1.5441817e-07,\n",
       " 1.1843063e-07,\n",
       " 3.8034614e-06,\n",
       " 3.817095e-06,\n",
       " 1.1001907e-06,\n",
       " 1.144604e-05,\n",
       " 5.8935955e-05,\n",
       " 7.940415e-06,\n",
       " 0.00026668093,\n",
       " 1.0191556e-07,\n",
       " 0.00043298255,\n",
       " 2.2120666e-05,\n",
       " 2.8046226e-05,\n",
       " 0.00069194596,\n",
       " 1.6106839e-06,\n",
       " 3.893293e-05,\n",
       " 8.7160144e-05,\n",
       " 7.9900055e-08,\n",
       " 1.557663e-05,\n",
       " 5.8140445e-06,\n",
       " 2.6208736e-06,\n",
       " 0.0008074297,\n",
       " 1.0362021e-06,\n",
       " 8.043276e-06,\n",
       " 6.1361574e-09,\n",
       " 5.326198e-08,\n",
       " 1.5507681e-05,\n",
       " 8.478334e-06,\n",
       " 2.6545418e-05,\n",
       " 2.3317313e-07,\n",
       " 7.812728e-06,\n",
       " 1.9797396e-07,\n",
       " 1.6511692e-08,\n",
       " 9.278738e-08,\n",
       " 3.4186487e-09,\n",
       " 0.0011876565,\n",
       " 7.280669e-05,\n",
       " 1.3362163e-05,\n",
       " 8.658883e-09,\n",
       " 1.4714115e-06,\n",
       " 5.0308017e-08,\n",
       " 1.2473387e-07,\n",
       " 4.196495e-07,\n",
       " 0.0003198494,\n",
       " 0.0008899214,\n",
       " 1.1957768e-07,\n",
       " 8.193427e-08,\n",
       " 7.544093e-07,\n",
       " 1.8139183e-08,\n",
       " 3.8293427e-07,\n",
       " 1.3097757e-06,\n",
       " 5.117855e-09,\n",
       " 8.329727e-08,\n",
       " 5.5821266e-07,\n",
       " 1.6435642e-06,\n",
       " 3.6158458e-08,\n",
       " 6.13623e-07,\n",
       " 3.6043676e-07,\n",
       " 2.0639602e-07,\n",
       " 1.6496826e-09,\n",
       " 1.2249131e-06,\n",
       " 1.9528641e-05,\n",
       " 3.9700714e-07,\n",
       " 1.2192578e-07,\n",
       " 2.2962712e-09,\n",
       " 5.344786e-07,\n",
       " 6.4347994e-08,\n",
       " 2.0709846e-05,\n",
       " 5.472375e-05,\n",
       " 0.0056748213,\n",
       " 4.4692425e-07,\n",
       " 8.880624e-06,\n",
       " 2.033213e-06,\n",
       " 5.669935e-07,\n",
       " 9.462615e-06,\n",
       " 3.246441e-05,\n",
       " 2.8651752e-07,\n",
       " 5.8264334e-07,\n",
       " 4.3464195e-05,\n",
       " 2.6565262e-06,\n",
       " 1.2348735e-06,\n",
       " 4.812196e-06,\n",
       " 2.361107e-08,\n",
       " 3.895046e-06,\n",
       " 1.0275031e-06,\n",
       " 0.00020615595,\n",
       " 2.4119495e-06,\n",
       " 6.0687507e-05,\n",
       " 4.306152e-07,\n",
       " 3.299751e-06,\n",
       " 9.978488e-07,\n",
       " 1.9184108e-05,\n",
       " 2.4204814e-05,\n",
       " 2.494612e-06,\n",
       " 6.016546e-07,\n",
       " 6.3994416e-06,\n",
       " 2.9961263e-06,\n",
       " 9.288756e-06,\n",
       " 0.00012562156,\n",
       " 0.00022006057,\n",
       " 1.5441817e-07,\n",
       " 1.1843063e-07,\n",
       " 3.8034614e-06,\n",
       " 3.817095e-06,\n",
       " 1.1001907e-06,\n",
       " 1.144604e-05,\n",
       " 5.8935955e-05,\n",
       " 7.940415e-06,\n",
       " 0.00026668093,\n",
       " 1.0191556e-07,\n",
       " 0.00043298255,\n",
       " 2.2120666e-05,\n",
       " 2.8046226e-05,\n",
       " 0.00069194596,\n",
       " 1.6106839e-06,\n",
       " 3.893293e-05,\n",
       " 8.7160144e-05,\n",
       " 7.9900055e-08,\n",
       " 1.557663e-05,\n",
       " 5.8140445e-06,\n",
       " 2.6208736e-06,\n",
       " 0.0008074297,\n",
       " 1.0362021e-06,\n",
       " 8.043276e-06,\n",
       " 6.1361574e-09,\n",
       " 5.326198e-08,\n",
       " 1.5507681e-05,\n",
       " 8.478334e-06,\n",
       " 2.6545418e-05,\n",
       " 2.3317313e-07,\n",
       " 7.812728e-06,\n",
       " 1.9797396e-07,\n",
       " 1.6511692e-08,\n",
       " 9.278738e-08,\n",
       " 3.4186487e-09,\n",
       " 0.0011876565,\n",
       " 7.280669e-05,\n",
       " 1.3362163e-05,\n",
       " 8.658883e-09,\n",
       " 1.4714115e-06,\n",
       " 5.0308017e-08,\n",
       " 1.2473387e-07,\n",
       " 4.196495e-07,\n",
       " 0.0003198494,\n",
       " 0.0008899214,\n",
       " 1.1957768e-07,\n",
       " 8.193427e-08,\n",
       " 7.544093e-07,\n",
       " 1.8139183e-08,\n",
       " 3.8293427e-07,\n",
       " 1.3097757e-06,\n",
       " 5.117855e-09,\n",
       " 8.329727e-08,\n",
       " 5.5821266e-07,\n",
       " 1.6435642e-06,\n",
       " 3.6158458e-08,\n",
       " 6.13623e-07,\n",
       " 3.6043676e-07,\n",
       " 2.0639602e-07,\n",
       " 1.6496826e-09,\n",
       " 1.2249131e-06,\n",
       " 1.9528641e-05,\n",
       " 3.9700714e-07,\n",
       " 1.2192578e-07,\n",
       " 2.2962712e-09,\n",
       " 5.344786e-07,\n",
       " 6.4347994e-08,\n",
       " 2.0709846e-05,\n",
       " 2.6115845e-07,\n",
       " 0.05614389,\n",
       " 0.00020981727,\n",
       " 9.0521506e-05,\n",
       " 1.562123e-05,\n",
       " 0.00019151821,\n",
       " 0.016066996,\n",
       " 0.023643747,\n",
       " 0.00035008162,\n",
       " 0.009165577,\n",
       " 0.8720865,\n",
       " 0.0007436972,\n",
       " 1.4556553e-06,\n",
       " 0.028585892,\n",
       " 2.2595311e-06,\n",
       " 0.22151716,\n",
       " 0.034829233,\n",
       " 0.23837817,\n",
       " 0.022427898,\n",
       " 2.3485803e-05,\n",
       " 4.7122567e-06,\n",
       " 0.0011492507,\n",
       " 8.02984e-06,\n",
       " 0.0025800648,\n",
       " 0.0033794474,\n",
       " 0.0050737867,\n",
       " 0.113713354,\n",
       " 7.601275e-07,\n",
       " 0.002685398,\n",
       " 0.05197575,\n",
       " 0.58297753,\n",
       " 0.032880567,\n",
       " 0.010163905,\n",
       " 3.7083275e-08,\n",
       " 0.012398431,\n",
       " 0.23670408,\n",
       " 0.5489755,\n",
       " 0.12262434,\n",
       " 0.0003289767,\n",
       " 0.5189255,\n",
       " 0.000543766,\n",
       " 0.0010244561,\n",
       " 0.000148008,\n",
       " 0.43324202,\n",
       " 0.00020768616,\n",
       " 0.12557079,\n",
       " 3.613147e-07,\n",
       " 0.00030170023,\n",
       " 0.00012670936,\n",
       " 0.00023542791,\n",
       " 0.00013603816,\n",
       " 0.0022024927,\n",
       " 0.18803656,\n",
       " 0.004432239,\n",
       " 0.017561862,\n",
       " 0.00033002623,\n",
       " 0.00034487457,\n",
       " 0.0010142874,\n",
       " 0.016722124,\n",
       " 0.014523883,\n",
       " 0.006404589,\n",
       " 0.001094678,\n",
       " 0.0006692736,\n",
       " 0.30448896,\n",
       " 1.1243941e-05,\n",
       " 5.7100675e-05,\n",
       " 0.0006092034,\n",
       " 0.0021089902,\n",
       " 0.01348302,\n",
       " 0.00021151718,\n",
       " 0.0004744937,\n",
       " 0.0051330053,\n",
       " 0.00920226,\n",
       " 0.00056398567,\n",
       " 6.0813974e-08,\n",
       " 5.3532967e-06,\n",
       " 0.035318553,\n",
       " 0.0076427925,\n",
       " 0.12700127,\n",
       " 0.009936888,\n",
       " 1.4418746e-05,\n",
       " 0.0129421465,\n",
       " 0.0009279091,\n",
       " 0.00017286537,\n",
       " 0.23720971,\n",
       " 0.13719441,\n",
       " 0.027412336,\n",
       " 0.0019271309,\n",
       " 0.035543352,\n",
       " 0.6383908,\n",
       " 0.00042513557,\n",
       " 0.003285699,\n",
       " 0.02119824,\n",
       " 0.00014462127,\n",
       " 0.0009832685,\n",
       " 0.00025398465,\n",
       " 0.000107830114,\n",
       " 0.048197277,\n",
       " 0.09050208,\n",
       " 0.20590979,\n",
       " 0.1510297,\n",
       " 0.38524777,\n",
       " 0.017228892,\n",
       " 0.003922771,\n",
       " 0.16758047,\n",
       " 0.1583735,\n",
       " 0.8596086,\n",
       " 0.3891106,\n",
       " 0.07978627,\n",
       " 0.7566622,\n",
       " 0.90064913,\n",
       " 0.98031837,\n",
       " 0.9231338,\n",
       " 0.63468236,\n",
       " 0.11365866,\n",
       " 0.8405911,\n",
       " 0.47471562,\n",
       " 0.9206229,\n",
       " 0.90394133,\n",
       " 0.1816599,\n",
       " 0.6375013,\n",
       " 0.1936777,\n",
       " 0.021039072,\n",
       " 0.6908365,\n",
       " 0.18689866,\n",
       " 0.621106,\n",
       " 0.9426899,\n",
       " 0.11089167,\n",
       " 0.47007373,\n",
       " 0.8032513,\n",
       " 0.44738373,\n",
       " 0.065481566,\n",
       " 0.1661537,\n",
       " 0.15698613,\n",
       " 0.029389739,\n",
       " 0.7451472,\n",
       " 0.4188914,\n",
       " 0.21187805,\n",
       " 0.015730597,\n",
       " 0.4941128,\n",
       " 0.051547907,\n",
       " 0.052196477,\n",
       " 0.028786032,\n",
       " 0.2022793,\n",
       " 0.019657737,\n",
       " 0.013139659,\n",
       " 0.0487513,\n",
       " 0.07907683,\n",
       " 0.1717926,\n",
       " 0.056496218,\n",
       " 0.008561551,\n",
       " 0.019432554,\n",
       " 0.4547976,\n",
       " 0.84921056,\n",
       " 0.9474803,\n",
       " 0.0062515656,\n",
       " 0.016167058,\n",
       " 0.55985665,\n",
       " 0.11889135,\n",
       " 0.47257504,\n",
       " 0.033499118,\n",
       " 0.04169099,\n",
       " 0.07514326,\n",
       " 0.20235524,\n",
       " 0.15229313,\n",
       " 0.3412327,\n",
       " 0.15039311,\n",
       " 0.31621867,\n",
       " 0.22024387,\n",
       " 0.62738484,\n",
       " 0.13602398,\n",
       " 0.052929554,\n",
       " 0.5634838,\n",
       " 0.09595204,\n",
       " 0.42199925,\n",
       " 0.4896273,\n",
       " 0.83834654,\n",
       " 0.19121894,\n",
       " 0.19877534,\n",
       " 0.7663471,\n",
       " 0.019980913,\n",
       " 0.14807817,\n",
       " 0.054976456,\n",
       " 0.058940995,\n",
       " 0.11231233,\n",
       " 0.16238357,\n",
       " 0.5947453,\n",
       " 0.0052152225,\n",
       " 0.15544625,\n",
       " 0.1299499,\n",
       " 0.06367539,\n",
       " 0.16962558,\n",
       " 0.10203103,\n",
       " 0.0015114725,\n",
       " 0.105442084,\n",
       " 0.07759382,\n",
       " 0.18746772,\n",
       " 0.03647578,\n",
       " 0.24287838,\n",
       " 0.28969735,\n",
       " 2.6115845e-07,\n",
       " 0.05614389,\n",
       " 0.00020981727,\n",
       " 9.0521506e-05,\n",
       " 1.562123e-05,\n",
       " 0.00019151821,\n",
       " 0.016066996,\n",
       " 0.023643747,\n",
       " 0.00035008162,\n",
       " 0.009165577,\n",
       " 0.8720865,\n",
       " 0.0007436972,\n",
       " 1.4556553e-06,\n",
       " 0.028585892,\n",
       " 2.2595311e-06,\n",
       " 0.22151716,\n",
       " 0.034829233,\n",
       " 0.23837817,\n",
       " 0.022427898,\n",
       " 2.3485803e-05,\n",
       " 4.7122567e-06,\n",
       " 0.0011492507,\n",
       " 8.02984e-06,\n",
       " 0.0025800648,\n",
       " 0.0033794474,\n",
       " 0.0050737867,\n",
       " 0.113713354,\n",
       " 7.601275e-07,\n",
       " 0.002685398,\n",
       " 0.05197575,\n",
       " 0.58297753,\n",
       " 0.032880567,\n",
       " 0.010163905,\n",
       " 3.7083275e-08,\n",
       " 0.012398431,\n",
       " 0.23670408,\n",
       " 0.5489755,\n",
       " 0.12262434,\n",
       " 0.0003289767,\n",
       " 0.5189255,\n",
       " 0.000543766,\n",
       " 0.0010244561,\n",
       " 0.000148008,\n",
       " 0.43324202,\n",
       " 0.00020768616,\n",
       " 0.12557079,\n",
       " 3.613147e-07,\n",
       " 0.00030170023,\n",
       " 0.00012670936,\n",
       " 0.00023542791,\n",
       " 0.00013603816,\n",
       " 0.0022024927,\n",
       " 0.18803656,\n",
       " 0.004432239,\n",
       " 0.017561862,\n",
       " 0.00033002623,\n",
       " 0.00034487457,\n",
       " 0.0010142874,\n",
       " 0.016722124,\n",
       " 0.014523883,\n",
       " 0.006404589,\n",
       " 0.001094678,\n",
       " 0.0006692736,\n",
       " 0.30448896,\n",
       " 1.1243941e-05,\n",
       " 5.7100675e-05,\n",
       " 0.0006092034,\n",
       " 0.0021089902,\n",
       " 0.01348302,\n",
       " 0.00021151718,\n",
       " 0.0004744937,\n",
       " 0.0051330053,\n",
       " 0.00920226,\n",
       " 0.00056398567,\n",
       " 6.0813974e-08,\n",
       " 5.3532967e-06,\n",
       " 0.035318553,\n",
       " 0.0076427925,\n",
       " 0.12700127,\n",
       " 0.009936888,\n",
       " 1.4418746e-05,\n",
       " 0.0129421465,\n",
       " 0.0009279091,\n",
       " 0.00017286537,\n",
       " 0.23720971,\n",
       " 0.13719441,\n",
       " 0.027412336,\n",
       " 0.0019271309,\n",
       " 0.035543352,\n",
       " 0.6383908,\n",
       " 0.00042513557,\n",
       " 0.003285699,\n",
       " 0.02119824,\n",
       " 0.00014462127,\n",
       " 0.0009832685,\n",
       " 0.00025398465,\n",
       " 0.000107830114,\n",
       " 0.048197277,\n",
       " 0.09050208,\n",
       " 0.20590979,\n",
       " 0.9910904,\n",
       " 0.9755486,\n",
       " 0.9998393,\n",
       " 0.9927966,\n",
       " 0.99866474,\n",
       " 0.9846615,\n",
       " 0.998871,\n",
       " 0.99906355,\n",
       " 0.9926313,\n",
       " 0.99066836,\n",
       " 0.999926,\n",
       " 0.99998534,\n",
       " 0.9982615,\n",
       " 0.99925095,\n",
       " 0.9970848,\n",
       " 0.99988914,\n",
       " 0.9989454,\n",
       " 0.99997115,\n",
       " 0.9999609,\n",
       " 0.99836105,\n",
       " 0.9999019,\n",
       " 0.99818265,\n",
       " 0.9899109,\n",
       " 0.9999385,\n",
       " 0.99896216,\n",
       " 0.9995346,\n",
       " 0.99988985,\n",
       " 0.99791545,\n",
       " 0.9994628,\n",
       " 0.99976546,\n",
       " 0.9610426,\n",
       " 0.999987,\n",
       " 0.98925656,\n",
       " 0.9964742,\n",
       " 0.9959126,\n",
       " 0.999954,\n",
       " 0.99995995,\n",
       " 0.99995804,\n",
       " 0.9997398,\n",
       " 0.99983895,\n",
       " 0.99945015,\n",
       " 0.996967,\n",
       " 0.9999585,\n",
       " 0.9997428,\n",
       " 0.9999343,\n",
       " 0.9998685,\n",
       " 0.9996791,\n",
       " 0.9995578,\n",
       " 0.99986804,\n",
       " 0.9999609,\n",
       " 0.99980193,\n",
       " 0.968747,\n",
       " 0.99906677,\n",
       " 0.99996793,\n",
       " 0.99952674,\n",
       " 0.9999844,\n",
       " 0.99199414,\n",
       " 0.99921465,\n",
       " 0.9999505,\n",
       " 0.99988127,\n",
       " 0.9983041,\n",
       " 0.9981238,\n",
       " 0.99707603,\n",
       " 0.9994491,\n",
       " 0.9990626,\n",
       " 0.9993818,\n",
       " 0.99661714,\n",
       " 0.9997415,\n",
       " 0.9999777,\n",
       " 0.9991178,\n",
       " 0.9984189,\n",
       " 0.9999695,\n",
       " 0.9829973,\n",
       " 0.9521266,\n",
       " 0.98903507,\n",
       " 0.9998838,\n",
       " 0.99963963,\n",
       " 0.9999789,\n",
       " 0.99960047,\n",
       " 0.9478652,\n",
       " 0.9919829,\n",
       " 0.9967533,\n",
       " 0.9987399,\n",
       " 0.99976116,\n",
       " 0.97541964,\n",
       " 0.99988985,\n",
       " 0.9999858,\n",
       " 0.99928194,\n",
       " 0.9995547,\n",
       " 0.999843,\n",
       " 0.999984,\n",
       " 0.99991643,\n",
       " 0.99973637,\n",
       " 0.99970055,\n",
       " 0.99999,\n",
       " 0.9998987,\n",
       " 0.9999095,\n",
       " 0.99895084,\n",
       " 0.9998709,\n",
       " 0.99984586]"
      ]
     },
     "execution_count": 76,
     "metadata": {},
     "output_type": "execute_result"
    }
   ],
   "source": [
    "recover_pic_real_pic_coopnet_list"
   ]
  },
  {
   "cell_type": "code",
   "execution_count": null,
   "metadata": {},
   "outputs": [],
   "source": []
  },
  {
   "cell_type": "code",
   "execution_count": 73,
   "metadata": {},
   "outputs": [
    {
     "data": {
      "image/png": "[encoded data removed]",
      "text/plain": [
       "<Figure size 432x288 with 1 Axes>"
      ]
     },
     "metadata": {
      "needs_background": "light"
     },
     "output_type": "display_data"
    }
   ],
   "source": [
    "#-------------------------------------boxplot---------------------------------------# \n",
    "\n",
    "data_coopnet = [real_pic_coopnet_list, pic_real_coopnet_list, recover_pic_real_pic_coopnet_list, recover_real_pic_real_coopnet_list]\n",
    "data_cyclegan = [real_pic_cyclegan_list, pic_real_cyclegan_list, recover_pic_real_pic_cyclegan_list, recover_real_pic_real_cyclegan_list]\n",
    "\n",
    "# ticks = ['case A', 'case B', 'case C']\n",
    "ticks = ['real_pic', 'pic_real', 'recover_pic_real_pic', 'recover_real_pic_real']\n",
    "\n",
    "\n",
    "def set_box_color(bp, color):\n",
    "    plt.setp(bp['boxes'], color=color)\n",
    "    plt.setp(bp['whiskers'], color=color)\n",
    "    plt.setp(bp['caps'], color=color)\n",
    "    plt.setp(bp['medians'], color=color)\n",
    "\n",
    "plt.figure()\n",
    "\n",
    "\n",
    "bp_1 = plt.boxplot(data_coopnet, positions=np.array(range(len(data_coopnet)))*3.0-0.4, sym='', widths=0.6)\n",
    "bp_2 = plt.boxplot(data_cyclegan, positions=np.array(range(len(data_cyclegan)))*3.0+0.4, sym='', widths=0.6)\n",
    "\n",
    "set_box_color(bp_1, '#2C7BB6')\n",
    "set_box_color(bp_2, '#D7191C') # colors are from http://colorbrewer2.org/\n",
    "\n",
    "# draw temporary red and blue lines and use them to create a legend\n",
    "plt.plot([], c='#2C7BB6', label='cycleCoopNet')\n",
    "plt.plot([], c='#D7191C', label='cyclegan')\n",
    "plt.legend()\n",
    "\n",
    "plt.xticks(range(0, len(ticks) * 3, 3), ticks)\n",
    "plt.xlim(-2, len(ticks)*3)\n",
    "plt.ylim(0, 1)\n",
    "plt.tight_layout()\n",
    "plt.savefig(\"boxplot.png\")\n",
    "plt.show()"
   ]
  },
  {
   "cell_type": "code",
   "execution_count": null,
   "metadata": {},
   "outputs": [],
   "source": []
  }
 ],
 "metadata": {
  "anaconda-cloud": {},
  "kernelspec": {
   "display_name": "Python 3",
   "language": "python",
   "name": "python3"
  },
  "language_info": {
   "codemirror_mode": {
    "name": "ipython",
    "version": 3
   },
   "file_extension": ".py",
   "mimetype": "text/x-python",
   "name": "python",
   "nbconvert_exporter": "python",
   "pygments_lexer": "ipython3",
   "version": "3.6.8"
  }
 },
 "nbformat": 4,
 "nbformat_minor": 1
}
